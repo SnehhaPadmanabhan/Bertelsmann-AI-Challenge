{
  "nbformat": 4,
  "nbformat_minor": 0,
  "metadata": {
    "colab": {
      "name": "Network Architecture.ipynb",
      "provenance": [],
      "include_colab_link": true
    },
    "kernelspec": {
      "name": "python3",
      "display_name": "Python 3"
    }
  },
  "cells": [
    {
      "cell_type": "markdown",
      "metadata": {
        "id": "view-in-github",
        "colab_type": "text"
      },
      "source": [
        "<a href=\"https://colab.research.google.com/github/SnehhaPadmanabhan/Bertelsmann-AI-Challenge/blob/master/Network_Architecture.ipynb\" target=\"_parent\"><img src=\"https://colab.research.google.com/assets/colab-badge.svg\" alt=\"Open In Colab\"/></a>"
      ]
    },
    {
      "cell_type": "code",
      "metadata": {
        "id": "nG3GSQzH4tv7",
        "colab_type": "code",
        "colab": {
          "base_uri": "https://localhost:8080/",
          "height": 294
        },
        "outputId": "9ecebe52-bcbc-4caf-dd6c-3088d0620b59"
      },
      "source": [
        "import torch\n",
        "from torch import nn\n",
        "import torch.nn.functional as F\n",
        "from torchvision import datasets, transforms\n",
        "\n",
        "#Transforms are the methods which can be used to transform data from the dataset\n",
        "# transforms.compose chains several trasforms together - so here we normalize the dataset and then convert it to a tensor\n",
        "# normalization refers to the process of converting the dataset to a given range by specifying the mean and std dev as parameters \n",
        "transform = transforms.Compose([transforms.ToTensor(),transforms.Normalize((0.5,), (0.5,)),]) \n",
        "\n",
        "#downloading and loading the data\n",
        "trainset = datasets.MNIST('~/.pytorch/MNIST_data/', download=True, train=True, transform=transform)\n",
        "trainloader = torch.utils.data.DataLoader(trainset, batch_size=64, shuffle=True)"
      ],
      "execution_count": 1,
      "outputs": [
        {
          "output_type": "stream",
          "text": [
            "\r0it [00:00, ?it/s]"
          ],
          "name": "stderr"
        },
        {
          "output_type": "stream",
          "text": [
            "Downloading http://yann.lecun.com/exdb/mnist/train-images-idx3-ubyte.gz to /root/.pytorch/MNIST_data/MNIST/raw/train-images-idx3-ubyte.gz\n"
          ],
          "name": "stdout"
        },
        {
          "output_type": "stream",
          "text": [
            "9920512it [00:01, 9250575.40it/s]                            \n"
          ],
          "name": "stderr"
        },
        {
          "output_type": "stream",
          "text": [
            "Extracting /root/.pytorch/MNIST_data/MNIST/raw/train-images-idx3-ubyte.gz to /root/.pytorch/MNIST_data/MNIST/raw\n"
          ],
          "name": "stdout"
        },
        {
          "output_type": "stream",
          "text": [
            "  0%|          | 0/28881 [00:00<?, ?it/s]"
          ],
          "name": "stderr"
        },
        {
          "output_type": "stream",
          "text": [
            "Downloading http://yann.lecun.com/exdb/mnist/train-labels-idx1-ubyte.gz to /root/.pytorch/MNIST_data/MNIST/raw/train-labels-idx1-ubyte.gz\n"
          ],
          "name": "stdout"
        },
        {
          "output_type": "stream",
          "text": [
            "32768it [00:00, 142745.37it/s]           \n",
            "  0%|          | 0/1648877 [00:00<?, ?it/s]"
          ],
          "name": "stderr"
        },
        {
          "output_type": "stream",
          "text": [
            "Extracting /root/.pytorch/MNIST_data/MNIST/raw/train-labels-idx1-ubyte.gz to /root/.pytorch/MNIST_data/MNIST/raw\n",
            "Downloading http://yann.lecun.com/exdb/mnist/t10k-images-idx3-ubyte.gz to /root/.pytorch/MNIST_data/MNIST/raw/t10k-images-idx3-ubyte.gz\n"
          ],
          "name": "stdout"
        },
        {
          "output_type": "stream",
          "text": [
            "1654784it [00:00, 2235144.61it/s]                            \n",
            "0it [00:00, ?it/s]"
          ],
          "name": "stderr"
        },
        {
          "output_type": "stream",
          "text": [
            "Extracting /root/.pytorch/MNIST_data/MNIST/raw/t10k-images-idx3-ubyte.gz to /root/.pytorch/MNIST_data/MNIST/raw\n",
            "Downloading http://yann.lecun.com/exdb/mnist/t10k-labels-idx1-ubyte.gz to /root/.pytorch/MNIST_data/MNIST/raw/t10k-labels-idx1-ubyte.gz\n"
          ],
          "name": "stdout"
        },
        {
          "output_type": "stream",
          "text": [
            "8192it [00:00, 52833.42it/s]            \n"
          ],
          "name": "stderr"
        },
        {
          "output_type": "stream",
          "text": [
            "Extracting /root/.pytorch/MNIST_data/MNIST/raw/t10k-labels-idx1-ubyte.gz to /root/.pytorch/MNIST_data/MNIST/raw\n",
            "Processing...\n",
            "Done!\n"
          ],
          "name": "stdout"
        }
      ]
    },
    {
      "cell_type": "code",
      "metadata": {
        "id": "Eh3pSFLo49Bs",
        "colab_type": "code",
        "colab": {
          "base_uri": "https://localhost:8080/",
          "height": 35
        },
        "outputId": "ecc6ba20-01c7-4f24-9c06-799057d18a97"
      },
      "source": [
        "# nn.Sequential is a Module which contains other Modules, and applies them in sequence to produce its output\n",
        "# using the following expression, we are defining a neural netwrok that creates a layer, applies relu on them, creates another layer...and so on. These are don in sequential manner\n",
        "model = nn.Sequential(nn.Linear(784, 128),nn.ReLU(),nn.Linear(128, 64),nn.ReLU(), nn.Linear(64, 10))\n",
        "\n",
        "# Define the loss\n",
        "# crossentropyloss is used for multiclass classification\n",
        "criterion = nn.CrossEntropyLoss()\n",
        "\n",
        "# Get our data\n",
        "images, labels = next(iter(trainloader))\n",
        "# Flatten images - Flattening transforms a two-dimensional matrix of features into a vector that can be fed into a fully connected neural network classifier\n",
        "images = images.view(images.shape[0], -1)\n",
        "\n",
        "# Forward pass, get our logits \n",
        "# The logit L of a probability p is defined as. L=lnp1−p\n",
        "logits = model(images)\n",
        "# Calculate the loss with the logits and the labels\n",
        "loss = criterion(logits, labels)\n",
        "\n",
        "print(loss)"
      ],
      "execution_count": 2,
      "outputs": [
        {
          "output_type": "stream",
          "text": [
            "tensor(2.3298, grad_fn=<NllLossBackward>)\n"
          ],
          "name": "stdout"
        }
      ]
    },
    {
      "cell_type": "code",
      "metadata": {
        "id": "kwq2PybP52tj",
        "colab_type": "code",
        "colab": {
          "base_uri": "https://localhost:8080/",
          "height": 35
        },
        "outputId": "ad9668bf-7ff5-46a2-ac08-886aa0c45a5d"
      },
      "source": [
        "# This cell uses log of softmax instead of cross entropy loss\n",
        "model = nn.Sequential(nn.Linear(784, 128), nn.ReLU(),nn.Linear(128, 64),nn.ReLU(),nn.Linear(64, 10), nn.LogSoftmax(dim=1))\n",
        "\n",
        "# Define the loss\n",
        "# Diff between CrossEntropyLoss and NLLLoss\n",
        "# If you apply Pytorch’s CrossEntropyLoss to your output layer, you get the same result as applying Pytorch’s NLLLoss to a LogSoftmax layer added after your original output layer.\n",
        "# using CrossEntropyLoss will be more efficient because it can collapse some calculations together, and doesn’t introduce an additional layer.\n",
        "#  Pytorch’s CrossEntropyLoss implicitly adds a soft-max that “normalizes” your output layer into such a probability distribution.\n",
        "criterion = nn.NLLLoss()\n",
        "\n",
        "# Get our data\n",
        "images, labels = next(iter(trainloader))\n",
        "# Flatten images\n",
        "images = images.view(images.shape[0], -1)\n",
        "\n",
        "# Forward pass, get our log-probabilities\n",
        "logps = model(images)\n",
        "# Calculate the loss with the logps and the labels\n",
        "loss = criterion(logps, labels)\n",
        "\n",
        "print(loss)"
      ],
      "execution_count": 4,
      "outputs": [
        {
          "output_type": "stream",
          "text": [
            "tensor(2.3005, grad_fn=<NllLossBackward>)\n"
          ],
          "name": "stdout"
        }
      ]
    },
    {
      "cell_type": "code",
      "metadata": {
        "id": "cuyuOlQI8Yrb",
        "colab_type": "code",
        "colab": {
          "base_uri": "https://localhost:8080/",
          "height": 311
        },
        "outputId": "b681af36-7526-412f-f830-beb37ab7bafa"
      },
      "source": [
        "# Torch provides a module, autograd, for automatically calculating the gradients of tensors, by keeping track of the ops and going back\n",
        "# The following cell works with autograd\n",
        "# set value of requires_grad to true so that pytorch keeps track of ops\n",
        "\n",
        "# gradient remains zero until backward mthod is called\n",
        "print('Before backward pass: \\n', model[0].weight.grad)\n",
        "\n",
        "loss.backward()\n",
        "\n",
        "print('After backward pass: \\n', model[0].weight.grad)\n"
      ],
      "execution_count": 5,
      "outputs": [
        {
          "output_type": "stream",
          "text": [
            "Before backward pass: \n",
            " None\n",
            "After backward pass: \n",
            " tensor([[-7.1711e-04, -7.1711e-04, -7.1711e-04,  ..., -7.1711e-04,\n",
            "         -7.1711e-04, -7.1711e-04],\n",
            "        [ 1.0540e-03,  1.0540e-03,  1.0540e-03,  ...,  1.0540e-03,\n",
            "          1.0540e-03,  1.0540e-03],\n",
            "        [ 1.9436e-03,  1.9436e-03,  1.9436e-03,  ...,  1.9436e-03,\n",
            "          1.9436e-03,  1.9436e-03],\n",
            "        ...,\n",
            "        [-1.4674e-03, -1.4674e-03, -1.4674e-03,  ..., -1.4674e-03,\n",
            "         -1.4674e-03, -1.4674e-03],\n",
            "        [ 2.8099e-04,  2.8099e-04,  2.8099e-04,  ...,  2.8099e-04,\n",
            "          2.8099e-04,  2.8099e-04],\n",
            "        [-2.4669e-06, -2.4669e-06, -2.4669e-06,  ..., -2.4669e-06,\n",
            "         -2.4669e-06, -2.4669e-06]])\n"
          ],
          "name": "stdout"
        }
      ]
    },
    {
      "cell_type": "code",
      "metadata": {
        "id": "Fhx67OQeF4FV",
        "colab_type": "code",
        "colab": {}
      },
      "source": [
        "from torch import optim\n",
        "\n",
        "# Optimizers require the parameters to optimize and a learning rate\n",
        "optimizer = optim.SGD(model.parameters(), lr=0.01)"
      ],
      "execution_count": 0,
      "outputs": []
    },
    {
      "cell_type": "code",
      "metadata": {
        "id": "HrXIkV7NGDDt",
        "colab_type": "code",
        "colab": {
          "base_uri": "https://localhost:8080/",
          "height": 660
        },
        "outputId": "c0658702-6fd5-4771-e98f-bef3ec6acdcd"
      },
      "source": [
        "print('Initial weights - ', model[0].weight)\n",
        "\n",
        "images, labels = next(iter(trainloader))\n",
        "images.resize_(64, 784)\n",
        "\n",
        "# Clear the gradients, do this because gradients are accumulated\n",
        "optimizer.zero_grad()\n",
        "\n",
        "# Forward pass, then backward pass, then update weights\n",
        "output = model(images)\n",
        "loss = criterion(output, labels)\n",
        "loss.backward()\n",
        "print('Gradient -', model[0].weight.grad)\n",
        "\n",
        "# Take an update step and few the new weights\n",
        "optimizer.step()\n",
        "print('Updated weights - ', model[0].weight)"
      ],
      "execution_count": 8,
      "outputs": [
        {
          "output_type": "stream",
          "text": [
            "Initial weights -  Parameter containing:\n",
            "tensor([[-1.2932e-02, -3.2581e-02, -1.7747e-02,  ..., -2.0534e-02,\n",
            "          8.2711e-03,  2.4116e-02],\n",
            "        [-5.8541e-03,  3.3008e-02, -9.6355e-05,  ...,  3.4666e-02,\n",
            "         -2.6694e-02, -2.1089e-02],\n",
            "        [-2.6945e-02,  2.5507e-03, -3.2220e-02,  ..., -8.4227e-03,\n",
            "         -3.3144e-02,  9.1304e-03],\n",
            "        ...,\n",
            "        [ 2.9816e-02,  3.5643e-02,  2.1215e-02,  ...,  2.1243e-02,\n",
            "          9.8461e-03,  5.3338e-03],\n",
            "        [-4.8168e-03, -2.7114e-02,  1.5364e-02,  ...,  2.6974e-02,\n",
            "         -1.0573e-02, -6.9814e-03],\n",
            "        [-2.2617e-02,  2.3300e-02,  6.2110e-03,  ..., -3.2765e-03,\n",
            "         -1.5521e-03, -5.6709e-03]], requires_grad=True)\n",
            "Gradient - tensor([[-0.0005, -0.0005, -0.0005,  ..., -0.0005, -0.0005, -0.0005],\n",
            "        [-0.0012, -0.0012, -0.0012,  ..., -0.0012, -0.0012, -0.0012],\n",
            "        [ 0.0005,  0.0005,  0.0005,  ...,  0.0005,  0.0005,  0.0005],\n",
            "        ...,\n",
            "        [-0.0016, -0.0016, -0.0016,  ..., -0.0016, -0.0016, -0.0016],\n",
            "        [ 0.0012,  0.0012,  0.0012,  ...,  0.0012,  0.0012,  0.0012],\n",
            "        [-0.0004, -0.0004, -0.0004,  ..., -0.0004, -0.0004, -0.0004]])\n",
            "Updated weights -  Parameter containing:\n",
            "tensor([[-1.2927e-02, -3.2576e-02, -1.7742e-02,  ..., -2.0529e-02,\n",
            "          8.2761e-03,  2.4121e-02],\n",
            "        [-5.8417e-03,  3.3020e-02, -8.3995e-05,  ...,  3.4678e-02,\n",
            "         -2.6682e-02, -2.1076e-02],\n",
            "        [-2.6950e-02,  2.5454e-03, -3.2225e-02,  ..., -8.4280e-03,\n",
            "         -3.3150e-02,  9.1251e-03],\n",
            "        ...,\n",
            "        [ 2.9832e-02,  3.5659e-02,  2.1230e-02,  ...,  2.1258e-02,\n",
            "          9.8619e-03,  5.3496e-03],\n",
            "        [-4.8291e-03, -2.7126e-02,  1.5352e-02,  ...,  2.6962e-02,\n",
            "         -1.0585e-02, -6.9936e-03],\n",
            "        [-2.2613e-02,  2.3304e-02,  6.2152e-03,  ..., -3.2723e-03,\n",
            "         -1.5479e-03, -5.6667e-03]], requires_grad=True)\n"
          ],
          "name": "stdout"
        }
      ]
    },
    {
      "cell_type": "code",
      "metadata": {
        "id": "nhkUKeq9Gt6-",
        "colab_type": "code",
        "colab": {
          "base_uri": "https://localhost:8080/",
          "height": 109
        },
        "outputId": "3aa8e587-4939-4943-e216-6a92456ccba2"
      },
      "source": [
        "model = nn.Sequential(nn.Linear(784, 128),\n",
        "                      nn.ReLU(),\n",
        "                      nn.Linear(128, 64),\n",
        "                      nn.ReLU(),\n",
        "                      nn.Linear(64, 10),\n",
        "                      nn.LogSoftmax(dim=1))\n",
        "\n",
        "criterion = nn.NLLLoss()\n",
        "optimizer = optim.SGD(model.parameters(), lr=0.003)\n",
        "\n",
        "epochs = 5\n",
        "for e in range(epochs):\n",
        "    running_loss = 0\n",
        "    for images, labels in trainloader:\n",
        "        # Flatten MNIST images into a 784 long vector\n",
        "        images = images.view(images.shape[0], -1)\n",
        "\n",
        "        optimizer.zero_grad()\n",
        "        \n",
        "        output = model(images)\n",
        "        loss = criterion(output, labels)\n",
        "        loss.backward()\n",
        "        optimizer.step()\n",
        "        \n",
        "        running_loss += loss.item()\n",
        "    else:\n",
        "        print(f\"Training loss: {running_loss/len(trainloader)}\")"
      ],
      "execution_count": 9,
      "outputs": [
        {
          "output_type": "stream",
          "text": [
            "Training loss: 1.8675068458006072\n",
            "Training loss: 0.8276712825176304\n",
            "Training loss: 0.5246770918083343\n",
            "Training loss: 0.43434125930070877\n",
            "Training loss: 0.3927920936648525\n"
          ],
          "name": "stdout"
        }
      ]
    }
  ]
}