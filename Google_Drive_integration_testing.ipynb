{
  "nbformat": 4,
  "nbformat_minor": 0,
  "metadata": {
    "colab": {
      "name": "Google Drive integration testing.ipynb",
      "provenance": [],
      "include_colab_link": true
    },
    "kernelspec": {
      "name": "python3",
      "display_name": "Python 3"
    }
  },
  "cells": [
    {
      "cell_type": "markdown",
      "metadata": {
        "id": "view-in-github",
        "colab_type": "text"
      },
      "source": [
        "<a href=\"https://colab.research.google.com/github/SnehhaPadmanabhan/Bertelsmann-AI-Challenge/blob/master/Google_Drive_integration_testing.ipynb\" target=\"_parent\"><img src=\"https://colab.research.google.com/assets/colab-badge.svg\" alt=\"Open In Colab\"/></a>"
      ]
    },
    {
      "cell_type": "code",
      "metadata": {
        "id": "6_TmFPVLGMfh",
        "colab_type": "code",
        "colab": {
          "base_uri": "https://localhost:8080/",
          "height": 35
        },
        "outputId": "daf9f6b2-7fa0-469f-bf76-0417bbf84b04"
      },
      "source": [
        "from google.colab import drive\n",
        "drive.mount('/content/drive')\n"
      ],
      "execution_count": 5,
      "outputs": [
        {
          "output_type": "stream",
          "text": [
            "Drive already mounted at /content/drive; to attempt to forcibly remount, call drive.mount(\"/content/drive\", force_remount=True).\n"
          ],
          "name": "stdout"
        }
      ]
    },
    {
      "cell_type": "code",
      "metadata": {
        "id": "gp4ehUDWHj6E",
        "colab_type": "code",
        "colab": {
          "base_uri": "https://localhost:8080/",
          "height": 35
        },
        "outputId": "bc7b8c8c-18e7-4a8a-db15-e1805fd2e73f"
      },
      "source": [
        "!ls /content/drive"
      ],
      "execution_count": 7,
      "outputs": [
        {
          "output_type": "stream",
          "text": [
            "'My Drive'\n"
          ],
          "name": "stdout"
        }
      ]
    },
    {
      "cell_type": "code",
      "metadata": {
        "id": "SXpH1qi_H2e7",
        "colab_type": "code",
        "colab": {
          "base_uri": "https://localhost:8080/",
          "height": 733
        },
        "outputId": "c62d7086-25b0-4d67-c166-5b184a25573a"
      },
      "source": [
        "!ls /content/drive/'My Drive'/"
      ],
      "execution_count": 10,
      "outputs": [
        {
          "output_type": "stream",
          "text": [
            "'60_days_udacity - Bertelsmann Challenge.gsheet'\n",
            " anna.txt\n",
            " bertelsmann_final.png\n",
            "'bertelsmann_final - Snehha Padmanabhan.png'\n",
            "'Blank Quiz.gform'\n",
            "'Blank Quiz (Responses).gsheet'\n",
            " ByteSize\n",
            " ByteSize.gform\n",
            " cheque1.jpg\n",
            "'Colab Notebooks'\n",
            " CompSci\n",
            "'Copy of DSCF8431 copy.jpg'\n",
            "'DSCF8431 copy.jpg'\n",
            " Google\n",
            "'Google Associate Cloud Engineer Track'\n",
            " google_scholarship.docx\n",
            " google_scholarship.gdoc\n",
            "'Gradient Descent.pptx'\n",
            " Imad\n",
            " image002.wmz\n",
            " IMG_20181006_211438.jpg\n",
            " java-the-complete-reference-ninth-editiona4.gdoc\n",
            " NPTEL19CS68S3220008670fdb0311e9881cc99477bdcfe0.jpg\n",
            " photos\n",
            " publications\n",
            "'RESUME (1).docx'\n",
            "'RESUME (2).docx'\n",
            "'RESUME (3).docx'\n",
            "'RESUME (4).docx'\n",
            " resume..docx\n",
            " RESUME.docx\n",
            " resume..gdoc\n",
            "'sn 06-Oct-2018 20-38-51.pdf'\n",
            " SNEHHA_PADMANABHAN.docx\n",
            " Sriman\n",
            "'Untitled spreadsheet.gsheet'\n",
            " voice_recognition.docx\n",
            " voice_recognition.gdoc\n",
            "'Webinar 28.12.19'\n"
          ],
          "name": "stdout"
        }
      ]
    },
    {
      "cell_type": "code",
      "metadata": {
        "id": "NhfL_tVRIgqz",
        "colab_type": "code",
        "colab": {
          "base_uri": "https://localhost:8080/",
          "height": 935
        },
        "outputId": "848dc715-1c56-4cd2-d307-8e8013cf6929"
      },
      "source": [
        "!ls /content/drive/'My Drive'/'Colab Notebooks'"
      ],
      "execution_count": 11,
      "outputs": [
        {
          "output_type": "stream",
          "text": [
            " anna.txt\n",
            " basics2.ipynb\n",
            " Basics.ipynb\n",
            " Character_Level_RNN_Solution.ipynb\n",
            "'Char RNN.ipynb'\n",
            " CNN_basics.ipynb\n",
            "'Copy of Network Architecture.ipynb'\n",
            "'Fashion MNIST'\n",
            "'Fashion MNIST (1).ipynb'\n",
            "'Fashion MNIST.ipynb'\n",
            " Files.ipynb\n",
            "'Inference and Validation.ipynb'\n",
            "'Inference, Validation and Dropout.ipynb'\n",
            " kernels.ipynb\n",
            " lists-06.01.ipynb\n",
            " lists.ipynb\n",
            "'Loading Image Data.ipynb'\n",
            " mnist_mlp_solution_with_validation.ipynb\n",
            "'MNIST with validation.ipynb'\n",
            "'Network Architecture.ipynb'\n",
            "'Part 4 - Fashion-MNIST (Solution).ipynb'\n",
            "'Part 5 - Inference and Validation (Exercises).ipynb'\n",
            "'Part 5 - Inference and Validation (Solution) (1).ipynb'\n",
            "'Part 5 - Inference and Validation (Solution) (2).ipynb'\n",
            "'Part 5 - Inference and Validation (Solution).ipynb'\n",
            "'Part 6 - Saving and Loading Models.ipynb'\n",
            "'Part 7 - Loading Image Data (Solution).ipynb'\n",
            "'Python object conversion.ipynb'\n",
            " RNN_basics.ipynb\n",
            "'Saving and loading models (1).ipynb'\n",
            "'Saving and loading models.ipynb'\n",
            "'Sets and booleans.ipynb'\n",
            "'string methods.ipynb'\n",
            " strings-2.ipynb\n",
            " strings.ipynb\n",
            " Tuples.ipynb\n",
            "'Understanding normalization.ipynb'\n",
            " Untitled\n",
            " Untitled0.ipynb\n",
            "'Untitled (1)'\n",
            " Untitled1.ipynb\n",
            "'Untitled (2)'\n",
            " Untitled2.ipynb\n",
            " Untitled3.ipynb\n",
            " Untitled4.ipynb\n",
            " Untitled5.ipynb\n",
            " Untitled6.ipynb\n",
            " Untitled7.ipynb\n",
            " Untitled8.ipynb\n",
            " Untitled.ipynb\n"
          ],
          "name": "stdout"
        }
      ]
    }
  ]
}