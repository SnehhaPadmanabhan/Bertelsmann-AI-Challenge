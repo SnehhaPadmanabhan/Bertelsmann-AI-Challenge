{
  "nbformat": 4,
  "nbformat_minor": 0,
  "metadata": {
    "colab": {
      "name": "Bank_Churn_Prediction.ipynb",
      "provenance": [],
      "authorship_tag": "ABX9TyMhlpjx4pKXhdpExp/CDEFO",
      "include_colab_link": true
    },
    "kernelspec": {
      "name": "python3",
      "display_name": "Python 3"
    },
    "accelerator": "GPU"
  },
  "cells": [
    {
      "cell_type": "markdown",
      "metadata": {
        "id": "view-in-github",
        "colab_type": "text"
      },
      "source": [
        "<a href=\"https://colab.research.google.com/github/SnehhaPadmanabhan/Bertelsmann-AI-Challenge/blob/master/Bank_Churn_Prediction.ipynb\" target=\"_parent\"><img src=\"https://colab.research.google.com/assets/colab-badge.svg\" alt=\"Open In Colab\"/></a>"
      ]
    },
    {
      "cell_type": "code",
      "metadata": {
        "id": "rFxcsm3Yp8sa",
        "colab_type": "code",
        "colab": {}
      },
      "source": [
        "import torch\n",
        "import numpy as np\n",
        "import matplotlib.pyplot as plt\n",
        "import pandas as pd"
      ],
      "execution_count": 0,
      "outputs": []
    },
    {
      "cell_type": "code",
      "metadata": {
        "id": "I03c-Pk_qmLw",
        "colab_type": "code",
        "colab": {
          "base_uri": "https://localhost:8080/",
          "height": 164
        },
        "outputId": "e4e207fb-69fc-4a79-bdd7-1e4b99dcfd6f"
      },
      "source": [
        "data = pd.read_csv('churn_modeling.csv')\n",
        "print(data[:5])"
      ],
      "execution_count": 2,
      "outputs": [
        {
          "output_type": "stream",
          "text": [
            "   RowNumber  CustomerId   Surname  ...  IsActiveMember EstimatedSalary Exited\n",
            "0          1    15634602  Hargrave  ...               1       101348.88      1\n",
            "1          2    15647311      Hill  ...               1       112542.58      0\n",
            "2          3    15619304      Onio  ...               0       113931.57      1\n",
            "3          4    15701354      Boni  ...               0        93826.63      0\n",
            "4          5    15737888  Mitchell  ...               1        79084.10      0\n",
            "\n",
            "[5 rows x 14 columns]\n"
          ],
          "name": "stdout"
        }
      ]
    },
    {
      "cell_type": "code",
      "metadata": {
        "id": "5cQJPdKgqqR5",
        "colab_type": "code",
        "colab": {
          "base_uri": "https://localhost:8080/",
          "height": 274
        },
        "outputId": "d82799e8-af99-4de0-eb32-cf53333ff3df"
      },
      "source": [
        "list(data.head()) # data.colomns did not work"
      ],
      "execution_count": 3,
      "outputs": [
        {
          "output_type": "execute_result",
          "data": {
            "text/plain": [
              "['RowNumber',\n",
              " 'CustomerId',\n",
              " 'Surname',\n",
              " 'CreditScore',\n",
              " 'Geography',\n",
              " 'Gender',\n",
              " 'Age',\n",
              " 'Tenure',\n",
              " 'Balance',\n",
              " 'NumOfProducts',\n",
              " 'HasCrCard',\n",
              " 'IsActiveMember',\n",
              " 'EstimatedSalary',\n",
              " 'Exited']"
            ]
          },
          "metadata": {
            "tags": []
          },
          "execution_count": 3
        }
      ]
    },
    {
      "cell_type": "code",
      "metadata": {
        "id": "apBSd96Iqtto",
        "colab_type": "code",
        "colab": {}
      },
      "source": [
        "import seaborn as sns\n",
        "import warnings\n",
        "warnings.filterwarnings(\"ignore\")\n",
        "from pylab import rcParams\n",
        "%matplotlib inline"
      ],
      "execution_count": 0,
      "outputs": []
    },
    {
      "cell_type": "code",
      "metadata": {
        "id": "KaduspOqqy7H",
        "colab_type": "code",
        "colab": {
          "base_uri": "https://localhost:8080/",
          "height": 319
        },
        "outputId": "e42a5950-2f3d-4283-caa1-b9edd492fac7"
      },
      "source": [
        "# Data to plot\n",
        "sizes = data['Exited'].value_counts(sort = True)\n",
        "colors = [\"grey\",\"purple\"] \n",
        "rcParams['figure.figsize'] = 5,5 # Plot\n",
        "labels = ['No', 'Yes']\n",
        "plt.pie(sizes, labels = labels, colors=colors,\n",
        "        autopct='%1.1f%%', shadow=True, startangle=270,)\n",
        "plt.title('Percentage of Churn in Dataset')\n",
        "plt.show()"
      ],
      "execution_count": 5,
      "outputs": [
        {
          "output_type": "display_data",
          "data": {
            "image/png": "[encoded data removed]",
            "text/plain": [
              "<Figure size 360x360 with 1 Axes>"
            ]
          },
          "metadata": {
            "tags": []
          }
        }
      ]
    },
    {
      "cell_type": "code",
      "metadata": {
        "id": "6ymmsvMcq437",
        "colab_type": "code",
        "colab": {}
      },
      "source": [
        "data.drop(['RowNumber'], axis=1, inplace=True)\n",
        "data.drop(['CustomerId'], axis=1, inplace=True)"
      ],
      "execution_count": 0,
      "outputs": []
    },
    {
      "cell_type": "code",
      "metadata": {
        "id": "0XNTznf2q-5D",
        "colab_type": "code",
        "colab": {}
      },
      "source": [
        "data.drop(['Surname'], axis=1, inplace=True)"
      ],
      "execution_count": 0,
      "outputs": []
    },
    {
      "cell_type": "code",
      "metadata": {
        "id": "YdSI2Z1IrDCj",
        "colab_type": "code",
        "colab": {
          "base_uri": "https://localhost:8080/",
          "height": 182
        },
        "outputId": "66a4e4a6-5829-4ffb-f038-2bb27bcd10b0"
      },
      "source": [
        "print(data.shape)\n",
        "print(data.head(5))"
      ],
      "execution_count": 9,
      "outputs": [
        {
          "output_type": "stream",
          "text": [
            "(10000, 11)\n",
            "   CreditScore Geography  Gender  ...  IsActiveMember  EstimatedSalary  Exited\n",
            "0          619    France  Female  ...               1        101348.88       1\n",
            "1          608     Spain  Female  ...               1        112542.58       0\n",
            "2          502    France  Female  ...               0        113931.57       1\n",
            "3          699    France  Female  ...               0         93826.63       0\n",
            "4          850     Spain  Female  ...               1         79084.10       0\n",
            "\n",
            "[5 rows x 11 columns]\n"
          ],
          "name": "stdout"
        }
      ]
    },
    {
      "cell_type": "code",
      "metadata": {
        "id": "d_-zvO8ArIKs",
        "colab_type": "code",
        "colab": {
          "base_uri": "https://localhost:8080/",
          "height": 384
        },
        "outputId": "620594c0-13bc-430e-edd5-afbb32b93088"
      },
      "source": [
        "one_hot_data = pd.concat([data, pd.get_dummies(data['Gender'], prefix = 'g')], axis = 1)\n",
        "one_hot_data = one_hot_data.drop('Gender', axis = 1)\n",
        "one_hot_data = pd.concat([one_hot_data, pd.get_dummies(data['Geography'], prefix = 'place')], axis = 1)\n",
        "one_hot_data = one_hot_data.drop('Geography', axis = 1)\n",
        "print(one_hot_data[:3])\n",
        "list(one_hot_data.head())"
      ],
      "execution_count": 10,
      "outputs": [
        {
          "output_type": "stream",
          "text": [
            "   CreditScore  Age  Tenure  ...  place_France  place_Germany  place_Spain\n",
            "0          619   42       2  ...             1              0            0\n",
            "1          608   41       1  ...             0              0            1\n",
            "2          502   42       8  ...             1              0            0\n",
            "\n",
            "[3 rows x 14 columns]\n"
          ],
          "name": "stdout"
        },
        {
          "output_type": "execute_result",
          "data": {
            "text/plain": [
              "['CreditScore',\n",
              " 'Age',\n",
              " 'Tenure',\n",
              " 'Balance',\n",
              " 'NumOfProducts',\n",
              " 'HasCrCard',\n",
              " 'IsActiveMember',\n",
              " 'EstimatedSalary',\n",
              " 'Exited',\n",
              " 'g_Female',\n",
              " 'g_Male',\n",
              " 'place_France',\n",
              " 'place_Germany',\n",
              " 'place_Spain']"
            ]
          },
          "metadata": {
            "tags": []
          },
          "execution_count": 10
        }
      ]
    },
    {
      "cell_type": "code",
      "metadata": {
        "id": "ipiRAbhPr84J",
        "colab_type": "code",
        "colab": {}
      },
      "source": [
        "processed_data = one_hot_data[:]\n",
        "processed_data['CreditScore'] = processed_data['CreditScore']/850\n",
        "processed_data['Age'] = processed_data['Age']/92\n",
        "processed_data['Tenure'] = processed_data['Tenure']/10\n",
        "processed_data['Balance'] = processed_data['Balance']/250899\n",
        "processed_data['NumOfProducts'] = processed_data['NumOfProducts']/4\n",
        "processed_data['EstimatedSalary'] = processed_data['EstimatedSalary']/199993"
      ],
      "execution_count": 0,
      "outputs": []
    },
    {
      "cell_type": "code",
      "metadata": {
        "id": "n4OQkv3strV7",
        "colab_type": "code",
        "colab": {
          "base_uri": "https://localhost:8080/",
          "height": 226
        },
        "outputId": "eef9eac9-6830-4e9b-d9b1-23f53616d772"
      },
      "source": [
        "processed_data[:5]"
      ],
      "execution_count": 12,
      "outputs": [
        {
          "output_type": "execute_result",
          "data": {
            "text/html": [
              "<div>\n",
              "<style scoped>\n",
              "    .dataframe tbody tr th:only-of-type {\n",
              "        vertical-align: middle;\n",
              "    }\n",
              "\n",
              "    .dataframe tbody tr th {\n",
              "        vertical-align: top;\n",
              "    }\n",
              "\n",
              "    .dataframe thead th {\n",
              "        text-align: right;\n",
              "    }\n",
              "</style>\n",
              "<table border=\"1\" class=\"dataframe\">\n",
              "  <thead>\n",
              "    <tr style=\"text-align: right;\">\n",
              "      <th></th>\n",
              "      <th>CreditScore</th>\n",
              "      <th>Age</th>\n",
              "      <th>Tenure</th>\n",
              "      <th>Balance</th>\n",
              "      <th>NumOfProducts</th>\n",
              "      <th>HasCrCard</th>\n",
              "      <th>IsActiveMember</th>\n",
              "      <th>EstimatedSalary</th>\n",
              "      <th>Exited</th>\n",
              "      <th>g_Female</th>\n",
              "      <th>g_Male</th>\n",
              "      <th>place_France</th>\n",
              "      <th>place_Germany</th>\n",
              "      <th>place_Spain</th>\n",
              "    </tr>\n",
              "  </thead>\n",
              "  <tbody>\n",
              "    <tr>\n",
              "      <th>0</th>\n",
              "      <td>0.728235</td>\n",
              "      <td>0.456522</td>\n",
              "      <td>0.2</td>\n",
              "      <td>0.000000</td>\n",
              "      <td>0.25</td>\n",
              "      <td>1</td>\n",
              "      <td>1</td>\n",
              "      <td>0.506762</td>\n",
              "      <td>1</td>\n",
              "      <td>1</td>\n",
              "      <td>0</td>\n",
              "      <td>1</td>\n",
              "      <td>0</td>\n",
              "      <td>0</td>\n",
              "    </tr>\n",
              "    <tr>\n",
              "      <th>1</th>\n",
              "      <td>0.715294</td>\n",
              "      <td>0.445652</td>\n",
              "      <td>0.1</td>\n",
              "      <td>0.334030</td>\n",
              "      <td>0.25</td>\n",
              "      <td>0</td>\n",
              "      <td>1</td>\n",
              "      <td>0.562733</td>\n",
              "      <td>0</td>\n",
              "      <td>1</td>\n",
              "      <td>0</td>\n",
              "      <td>0</td>\n",
              "      <td>0</td>\n",
              "      <td>1</td>\n",
              "    </tr>\n",
              "    <tr>\n",
              "      <th>2</th>\n",
              "      <td>0.590588</td>\n",
              "      <td>0.456522</td>\n",
              "      <td>0.8</td>\n",
              "      <td>0.636355</td>\n",
              "      <td>0.75</td>\n",
              "      <td>1</td>\n",
              "      <td>0</td>\n",
              "      <td>0.569678</td>\n",
              "      <td>1</td>\n",
              "      <td>1</td>\n",
              "      <td>0</td>\n",
              "      <td>1</td>\n",
              "      <td>0</td>\n",
              "      <td>0</td>\n",
              "    </tr>\n",
              "    <tr>\n",
              "      <th>3</th>\n",
              "      <td>0.822353</td>\n",
              "      <td>0.423913</td>\n",
              "      <td>0.1</td>\n",
              "      <td>0.000000</td>\n",
              "      <td>0.50</td>\n",
              "      <td>0</td>\n",
              "      <td>0</td>\n",
              "      <td>0.469150</td>\n",
              "      <td>0</td>\n",
              "      <td>1</td>\n",
              "      <td>0</td>\n",
              "      <td>1</td>\n",
              "      <td>0</td>\n",
              "      <td>0</td>\n",
              "    </tr>\n",
              "    <tr>\n",
              "      <th>4</th>\n",
              "      <td>1.000000</td>\n",
              "      <td>0.467391</td>\n",
              "      <td>0.2</td>\n",
              "      <td>0.500244</td>\n",
              "      <td>0.25</td>\n",
              "      <td>1</td>\n",
              "      <td>1</td>\n",
              "      <td>0.395434</td>\n",
              "      <td>0</td>\n",
              "      <td>1</td>\n",
              "      <td>0</td>\n",
              "      <td>0</td>\n",
              "      <td>0</td>\n",
              "      <td>1</td>\n",
              "    </tr>\n",
              "  </tbody>\n",
              "</table>\n",
              "</div>"
            ],
            "text/plain": [
              "   CreditScore       Age  Tenure  ...  place_France  place_Germany  place_Spain\n",
              "0     0.728235  0.456522     0.2  ...             1              0            0\n",
              "1     0.715294  0.445652     0.1  ...             0              0            1\n",
              "2     0.590588  0.456522     0.8  ...             1              0            0\n",
              "3     0.822353  0.423913     0.1  ...             1              0            0\n",
              "4     1.000000  0.467391     0.2  ...             0              0            1\n",
              "\n",
              "[5 rows x 14 columns]"
            ]
          },
          "metadata": {
            "tags": []
          },
          "execution_count": 12
        }
      ]
    },
    {
      "cell_type": "code",
      "metadata": {
        "id": "PFcsor5TtxuZ",
        "colab_type": "code",
        "colab": {
          "base_uri": "https://localhost:8080/",
          "height": 531
        },
        "outputId": "507d6739-0391-43da-9d9f-bebdc731fdc2"
      },
      "source": [
        "sample = np.random.choice(processed_data.index, size=int(len(processed_data)*0.8), replace=False)\n",
        "train_data, test_data = processed_data.iloc[sample], processed_data.drop(sample)\n",
        "\n",
        "print(\"Number of training samples is\", len(train_data))\n",
        "print(\"Number of testing samples is\", len(test_data))\n",
        "print(train_data[:10])\n",
        "print(test_data[:10])"
      ],
      "execution_count": 13,
      "outputs": [
        {
          "output_type": "stream",
          "text": [
            "Number of training samples is 8000\n",
            "Number of testing samples is 2000\n",
            "      CreditScore       Age  Tenure  ...  place_France  place_Germany  place_Spain\n",
            "9070     0.550588  0.282609     0.1  ...             0              0            1\n",
            "5927     0.678824  0.467391     0.3  ...             0              1            0\n",
            "9560     0.807059  0.445652     0.5  ...             1              0            0\n",
            "8261     0.788235  0.413043     0.7  ...             1              0            0\n",
            "9585     0.817647  0.380435     0.7  ...             0              0            1\n",
            "8085     0.934118  0.358696     0.0  ...             1              0            0\n",
            "9823     0.648235  0.282609     0.2  ...             1              0            0\n",
            "3093     0.737647  0.445652     0.5  ...             0              0            1\n",
            "7528     0.680000  0.500000     0.5  ...             1              0            0\n",
            "5133     0.563529  0.402174     0.6  ...             0              0            1\n",
            "\n",
            "[10 rows x 14 columns]\n",
            "    CreditScore       Age  Tenure  ...  place_France  place_Germany  place_Spain\n",
            "2      0.590588  0.456522     0.8  ...             1              0            0\n",
            "8      0.589412  0.478261     0.4  ...             1              0            0\n",
            "12     0.560000  0.369565     1.0  ...             1              0            0\n",
            "18     0.690588  0.489130     0.6  ...             0              0            1\n",
            "21     0.748235  0.347826     0.8  ...             0              0            1\n",
            "22     0.600000  0.413043     0.4  ...             0              0            1\n",
            "25     0.678824  0.271739     0.3  ...             1              0            0\n",
            "26     0.889412  0.391304     0.2  ...             0              1            0\n",
            "37     0.945882  0.358696     0.7  ...             0              0            1\n",
            "42     0.654118  0.663043     0.2  ...             1              0            0\n",
            "\n",
            "[10 rows x 14 columns]\n"
          ],
          "name": "stdout"
        }
      ]
    },
    {
      "cell_type": "code",
      "metadata": {
        "id": "E8oKhM9muAUZ",
        "colab_type": "code",
        "colab": {
          "base_uri": "https://localhost:8080/",
          "height": 458
        },
        "outputId": "b317975f-b7d9-43c9-cfe9-68fb70d4fa52"
      },
      "source": [
        "features = train_data.drop('Exited', axis=1)\n",
        "targets = train_data['Exited']\n",
        "features_test = test_data.drop('Exited', axis=1)\n",
        "targets_test = test_data['Exited']\n",
        "\n",
        "print(features[:10])\n",
        "print(targets[:10])"
      ],
      "execution_count": 14,
      "outputs": [
        {
          "output_type": "stream",
          "text": [
            "      CreditScore       Age  Tenure  ...  place_France  place_Germany  place_Spain\n",
            "9070     0.550588  0.282609     0.1  ...             0              0            1\n",
            "5927     0.678824  0.467391     0.3  ...             0              1            0\n",
            "9560     0.807059  0.445652     0.5  ...             1              0            0\n",
            "8261     0.788235  0.413043     0.7  ...             1              0            0\n",
            "9585     0.817647  0.380435     0.7  ...             0              0            1\n",
            "8085     0.934118  0.358696     0.0  ...             1              0            0\n",
            "9823     0.648235  0.282609     0.2  ...             1              0            0\n",
            "3093     0.737647  0.445652     0.5  ...             0              0            1\n",
            "7528     0.680000  0.500000     0.5  ...             1              0            0\n",
            "5133     0.563529  0.402174     0.6  ...             0              0            1\n",
            "\n",
            "[10 rows x 13 columns]\n",
            "9070    0\n",
            "5927    1\n",
            "9560    1\n",
            "8261    0\n",
            "9585    0\n",
            "8085    0\n",
            "9823    0\n",
            "3093    0\n",
            "7528    0\n",
            "5133    0\n",
            "Name: Exited, dtype: int64\n"
          ],
          "name": "stdout"
        }
      ]
    },
    {
      "cell_type": "code",
      "metadata": {
        "id": "UfInPu5Szahk",
        "colab_type": "code",
        "colab": {
          "base_uri": "https://localhost:8080/",
          "height": 256
        },
        "outputId": "0456ad8c-1d9d-44e1-ca58-72caccf774f1"
      },
      "source": [
        "list(features.head())"
      ],
      "execution_count": 16,
      "outputs": [
        {
          "output_type": "execute_result",
          "data": {
            "text/plain": [
              "['CreditScore',\n",
              " 'Age',\n",
              " 'Tenure',\n",
              " 'Balance',\n",
              " 'NumOfProducts',\n",
              " 'HasCrCard',\n",
              " 'IsActiveMember',\n",
              " 'EstimatedSalary',\n",
              " 'g_Female',\n",
              " 'g_Male',\n",
              " 'place_France',\n",
              " 'place_Germany',\n",
              " 'place_Spain']"
            ]
          },
          "metadata": {
            "tags": []
          },
          "execution_count": 16
        }
      ]
    },
    {
      "cell_type": "code",
      "metadata": {
        "id": "wT1Dxp2quTSs",
        "colab_type": "code",
        "colab": {}
      },
      "source": [
        "import torch.nn.functional as F\n",
        "import torch.nn as nn\n",
        "class Network(nn.Module):\n",
        "  def __init__(self, input_dim = 13, output_dim = 1):\n",
        "    super(Network, self).__init__()\n",
        "    self.fc1 = nn.Linear(input_dim, 64)\n",
        "    self.fc2 = nn.Linear(64, 64)\n",
        "    self.fc3 = nn.Linear(64, 32)\n",
        "    self.fc4 = nn.Linear(32, 32)\n",
        "    self.output_layer = nn.Linear(32,1)\n",
        "    self.dropout = nn.Dropout(0.2)\n",
        "  def forward(self, x):\n",
        "    x = F.relu(self.fc1(x))\n",
        "    x = F.relu(self.fc2(x))\n",
        "    x = self.dropout(x)\n",
        "    x = F.relu(self.fc3(x))\n",
        "    x = F.relu(self.fc4(x))\n",
        "    x = self.output_layer(x)\n",
        "    return nn.Sigmoid()(x)"
      ],
      "execution_count": 0,
      "outputs": []
    },
    {
      "cell_type": "code",
      "metadata": {
        "id": "vjA0ajd_05KB",
        "colab_type": "code",
        "colab": {
          "base_uri": "https://localhost:8080/",
          "height": 164
        },
        "outputId": "72cbd8ce-b3b5-4ab0-91d5-2191f4d8d55d"
      },
      "source": [
        "model = Network(input_dim = 13, output_dim = 1)\n",
        "print(model)"
      ],
      "execution_count": 22,
      "outputs": [
        {
          "output_type": "stream",
          "text": [
            "Network(\n",
            "  (fc1): Linear(in_features=13, out_features=64, bias=True)\n",
            "  (fc2): Linear(in_features=64, out_features=64, bias=True)\n",
            "  (fc3): Linear(in_features=64, out_features=32, bias=True)\n",
            "  (fc4): Linear(in_features=32, out_features=32, bias=True)\n",
            "  (output_layer): Linear(in_features=32, out_features=1, bias=True)\n",
            "  (dropout): Dropout(p=0.2, inplace=False)\n",
            ")\n"
          ],
          "name": "stdout"
        }
      ]
    },
    {
      "cell_type": "code",
      "metadata": {
        "id": "FUKw0INU1SQF",
        "colab_type": "code",
        "colab": {}
      },
      "source": [
        "import torch.optim as optim\n",
        "epochs = 30\n",
        "steps = 0\n",
        "train_losses, test_losses = [], []\n",
        "criterion = nn.NLLLoss()\n",
        "optimizer = optim.Adam(model.parameters(), lr=0.003)\n",
        "for e in range(epochs):\n",
        "    running_loss = 0\n",
        "    for features, targets in train_data:\n",
        "        \n",
        "        optimizer.zero_grad()\n",
        "        features = features.view(features.shape[0], -1)\n",
        "        log_ps = model(features)\n",
        "        loss = criterion(log_ps, targets)\n",
        "        loss.backward()\n",
        "        optimizer.step()\n",
        "        \n",
        "        running_loss += loss.item()\n",
        "        \n",
        "    else:\n",
        "        test_loss = 0\n",
        "        accuracy = 0\n",
        "        with torch.no_grad():\n",
        "            for features_test, targets_test in test_data:\n",
        "                features_test = features_test.view(features_test.shape[0], -1)\n",
        "                output = model(features_test)\n",
        "                test_loss += criterion(output, targets_test)\n",
        "                \n",
        "                ps = torch.exp(output)\n",
        "                top_p, top_class = ps.topk(1, dim=1)\n",
        "                equals = top_class == labels.view(*top_class.shape)\n",
        "                accuracy += torch.mean(equals.type(torch.FloatTensor))\n",
        "                \n",
        "        train_losses.append(running_loss/len(trainloader))\n",
        "        test_losses.append(test_loss/len(testloader))\n",
        "\n",
        "        print(\"Epoch: {}/{}.. \".format(e+1, epochs),\n",
        "              \"Training Loss: {:.3f}.. \".format(running_loss/len(trainloader)),\n",
        "              \"Test Loss: {:.3f}.. \".format(test_loss/len(testloader)),\n",
        "              \"Test Accuracy: {:.3f}\".format(accuracy/len(testloader)))"
      ],
      "execution_count": 0,
      "outputs": []
    },
    {
      "cell_type": "code",
      "metadata": {
        "id": "PtEnrIYx3lcH",
        "colab_type": "code",
        "colab": {
          "base_uri": "https://localhost:8080/",
          "height": 586
        },
        "outputId": "29eaec9d-ce0e-46d9-a85f-8852cc9d7c51"
      },
      "source": [
        "def sigmoid(x):\n",
        "    return 1 / (1 + np.exp(-x))\n",
        "def sigmoid_prime(x):\n",
        "    return sigmoid(x) * (1-sigmoid(x))\n",
        "def error_formula(y, output):\n",
        "    return - y*np.log(output) - (1 - y) * np.log(1-output)\n",
        "def error_term_formula(x, y, output):\n",
        "    return (y-output)*sigmoid_prime(x)\n",
        "epochs = 1000\n",
        "learnrate = 0.05\n",
        "\n",
        "# Training function\n",
        "def train_nn(features, targets, epochs, learnrate):\n",
        "    \n",
        "    # Use to same seed to make debugging easier\n",
        "    np.random.seed(42)\n",
        "\n",
        "    n_records, n_features = features.shape\n",
        "    last_loss = None\n",
        "\n",
        "    # Initialize weights\n",
        "    weights = np.random.normal(scale=1 / n_features**.5, size=n_features)\n",
        "\n",
        "    for e in range(epochs):\n",
        "        del_w = np.zeros(weights.shape)\n",
        "        for x, y in zip(features.values, targets):\n",
        "            # Loop through all records, x is the input, y is the target\n",
        "\n",
        "            # Activation of the output unit\n",
        "            #   Notice we multiply the inputs and the weights here \n",
        "            #   rather than storing h as a separate variable \n",
        "            output = sigmoid(np.dot(x, weights))\n",
        "\n",
        "            # The error, the target minus the network output\n",
        "            error = error_formula(y, output)\n",
        "\n",
        "            # The error term\n",
        "            error_term = error_term_formula(x, y, output)\n",
        "\n",
        "            # The gradient descent step, the error times the gradient times the inputs\n",
        "            del_w += error_term * x\n",
        "\n",
        "        # Update the weights here. The learning rate times the \n",
        "        # change in weights, divided by the number of records to average\n",
        "        weights += learnrate * del_w / n_records\n",
        "\n",
        "        # Printing out the mean square error on the training set\n",
        "        if e % (epochs / 10) == 0:\n",
        "            out = sigmoid(np.dot(features, weights))\n",
        "            loss = np.mean((out - targets) ** 2)\n",
        "            print(\"Epoch:\", e)\n",
        "            if last_loss and last_loss < loss:\n",
        "                print(\"Train loss: \", loss, \"  WARNING - Loss Increasing\")\n",
        "            else:\n",
        "                print(\"Train loss: \", loss)\n",
        "            last_loss = loss\n",
        "            print(\"=========\")\n",
        "    print(\"Finished training!\")\n",
        "    return weights\n",
        "    \n",
        "weights = train_nn(features, targets, epochs, learnrate)"
      ],
      "execution_count": 27,
      "outputs": [
        {
          "output_type": "stream",
          "text": [
            "Epoch: 0\n",
            "Train loss:  0.346769122136624\n",
            "=========\n",
            "Epoch: 100\n",
            "Train loss:  0.20399188415450298\n",
            "=========\n",
            "Epoch: 200\n",
            "Train loss:  0.1744693446784362\n",
            "=========\n",
            "Epoch: 300\n",
            "Train loss:  0.16675384636468005\n",
            "=========\n",
            "Epoch: 400\n",
            "Train loss:  0.16381662084496068\n",
            "=========\n",
            "Epoch: 500\n",
            "Train loss:  0.16221713300990054\n",
            "=========\n",
            "Epoch: 600\n",
            "Train loss:  0.1610836746905828\n",
            "=========\n",
            "Epoch: 700\n",
            "Train loss:  0.16015580558399617\n",
            "=========\n",
            "Epoch: 800\n",
            "Train loss:  0.1593453947144907\n",
            "=========\n",
            "Epoch: 900\n",
            "Train loss:  0.15861854672600254\n",
            "=========\n",
            "Finished training!\n"
          ],
          "name": "stdout"
        }
      ]
    },
    {
      "cell_type": "code",
      "metadata": {
        "id": "Fsak_Fel49WF",
        "colab_type": "code",
        "colab": {
          "base_uri": "https://localhost:8080/",
          "height": 35
        },
        "outputId": "72096084-8e46-41e1-be3f-61779fd2a76d"
      },
      "source": [
        "test_out = sigmoid(np.dot(features_test, weights))\n",
        "predictions = test_out > 0.5\n",
        "accuracy = np.mean(predictions == targets_test)\n",
        "print(\"Prediction accuracy: {:.3f}\".format(accuracy))"
      ],
      "execution_count": 28,
      "outputs": [
        {
          "output_type": "stream",
          "text": [
            "Prediction accuracy: 0.805\n"
          ],
          "name": "stdout"
        }
      ]
    }
  ]
}