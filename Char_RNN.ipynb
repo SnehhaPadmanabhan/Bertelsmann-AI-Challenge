{
  "nbformat": 4,
  "nbformat_minor": 0,
  "metadata": {
    "colab": {
      "name": "Char RNN.ipynb",
      "provenance": [],
      "include_colab_link": true
    },
    "kernelspec": {
      "name": "python3",
      "display_name": "Python 3"
    },
    "accelerator": "GPU"
  },
  "cells": [
    {
      "cell_type": "markdown",
      "metadata": {
        "id": "view-in-github",
        "colab_type": "text"
      },
      "source": [
        "<a href=\"https://colab.research.google.com/github/SnehhaPadmanabhan/Bertelsmann-AI-Challenge/blob/master/Char_RNN.ipynb\" target=\"_parent\"><img src=\"https://colab.research.google.com/assets/colab-badge.svg\" alt=\"Open In Colab\"/></a>"
      ]
    },
    {
      "cell_type": "markdown",
      "metadata": {
        "id": "HCfY3KdcWVsV",
        "colab_type": "text"
      },
      "source": [
        "- Character recognition is used for NLP. It can be done either by \n",
        "   - analysis of words\n",
        "   - analysis of characters\n",
        "- Word vector is a pre-trained NLP model\n",
        "- Advantages of character level break down\n",
        "   1. lessen vobaulary problems during input\n",
        "      - resilient to spelling mistakes and rare words\n",
        "   2. remove computational bottlenexk at the output\n",
        "- Some specialities of a character level model\n",
        "   1. can learn from non-trivial syntax\n",
        "   2. can understand sentiments\n",
        "   3. can translate\n",
        "- We encounter the choice between characters and words in two places, at the model's input and the model's output.\n",
        "- Advantages of character level models\n",
        "  1. allow open vocabulary\n",
        "     ![alt text](https://drive.google.com/open?id=1rV1DsvIh6wANv3sgZFQAxjoBhaXRmmMn)\n",
        "  2. easy topretrain and train\n",
        "- Disadvantages of char RNN\n",
        "  1. semantically void\n",
        "  2. longer sequences increase computational expense\n",
        "  3. output is also a set of characters\n",
        "- several solutions exist"
      ]
    },
    {
      "cell_type": "code",
      "metadata": {
        "id": "gaFHC-5-I4sy",
        "colab_type": "code",
        "colab": {}
      },
      "source": [
        "import numpy as np\n",
        "import torch\n",
        "from torch import nn\n",
        "import torch.nn.functional as F"
      ],
      "execution_count": 0,
      "outputs": []
    },
    {
      "cell_type": "code",
      "metadata": {
        "id": "WWLkwV14JG_v",
        "colab_type": "code",
        "outputId": "f0be1277-e311-4732-8c20-9dd2ed416c70",
        "colab": {
          "base_uri": "https://localhost:8080/",
          "height": 35
        }
      },
      "source": [
        "from google.colab import drive\n",
        "drive.mount('/content/drive')"
      ],
      "execution_count": 23,
      "outputs": [
        {
          "output_type": "stream",
          "text": [
            "Drive already mounted at /content/drive; to attempt to forcibly remount, call drive.mount(\"/content/drive\", force_remount=True).\n"
          ],
          "name": "stdout"
        }
      ]
    },
    {
      "cell_type": "code",
      "metadata": {
        "id": "uYZybWgeKFXu",
        "colab_type": "code",
        "colab": {}
      },
      "source": [
        "!cd /content/drive/'My Drive'/"
      ],
      "execution_count": 0,
      "outputs": []
    },
    {
      "cell_type": "code",
      "metadata": {
        "id": "UEkVLEw3KOyK",
        "colab_type": "code",
        "colab": {}
      },
      "source": [
        "!cp /content/drive/'My Drive'/anna.txt sample_data/"
      ],
      "execution_count": 0,
      "outputs": []
    },
    {
      "cell_type": "code",
      "metadata": {
        "id": "-ZJqU_5ELbYQ",
        "colab_type": "code",
        "colab": {}
      },
      "source": [
        " with open('anna.txt', 'r') as txtfile:\n",
        "        text = txtfile.read()"
      ],
      "execution_count": 0,
      "outputs": []
    },
    {
      "cell_type": "code",
      "metadata": {
        "id": "s03BS1rFLruA",
        "colab_type": "code",
        "outputId": "70acf50b-d27b-4fc4-d211-3d302783a1dd",
        "colab": {
          "base_uri": "https://localhost:8080/",
          "height": 35
        }
      },
      "source": [
        "text[:100]"
      ],
      "execution_count": 28,
      "outputs": [
        {
          "output_type": "execute_result",
          "data": {
            "text/plain": [
              "'Chapter 1\\n\\n\\nHappy families are all alike; every unhappy family is unhappy in its own\\nway.\\n\\nEverythin'"
            ]
          },
          "metadata": {
            "tags": []
          },
          "execution_count": 28
        }
      ]
    },
    {
      "cell_type": "markdown",
      "metadata": {
        "id": "AVz2ePKgMb2A",
        "colab_type": "text"
      },
      "source": [
        "**Tokenization**\n",
        "\n",
        "- to map characters to integers and vice versa\n",
        "- tokenization is useful for one hot encoding\n",
        "- one hot encoding makes computation easier"
      ]
    },
    {
      "cell_type": "code",
      "metadata": {
        "id": "Hex7svjTL1Hm",
        "colab_type": "code",
        "outputId": "61a3aae4-23b6-4e29-8d06-29bade74abda",
        "colab": {
          "base_uri": "https://localhost:8080/",
          "height": 72
        }
      },
      "source": [
        "chars = tuple(set(text))\n",
        "int2char = dict(enumerate(chars))\n",
        "char2int = {ch: ii for ii,ch in int2char.items()}\n",
        "encode = np.array([char2int[ch] for ch in text])\n",
        "print(encode[:50])"
      ],
      "execution_count": 29,
      "outputs": [
        {
          "output_type": "stream",
          "text": [
            "[54 57 43 65 80 69 72 31 59 77 77 77  5 43 65 65 14 31 74 43 24 47 13 47\n",
            " 69 49 31 43 72 69 31 43 13 13 31 43 13 47  6 69 73 31 69 75 69 72 14 31\n",
            " 66 15]\n"
          ],
          "name": "stdout"
        }
      ]
    },
    {
      "cell_type": "code",
      "metadata": {
        "id": "7exrmX-5cpzs",
        "colab_type": "code",
        "colab": {}
      },
      "source": [
        "def one_hot_encode(arr, n):\n",
        "  one_hot = np.zeros((arr.size, n), dtype = np.float32)\n",
        "  # filing with 1s\n",
        "  one_hot[np.arange(one_hot.shape[0]), arr.flatten()] = 1.\n",
        "  one_hot = one_hot.reshape((*arr.shape, n))\n",
        "  return one_hot"
      ],
      "execution_count": 0,
      "outputs": []
    },
    {
      "cell_type": "code",
      "metadata": {
        "id": "aIm40KrZdV_Y",
        "colab_type": "code",
        "outputId": "4143dde4-1175-4333-db99-f527120a89c9",
        "colab": {
          "base_uri": "https://localhost:8080/",
          "height": 72
        }
      },
      "source": [
        "test_seq = np.array([[3, 5, 1]])\n",
        "one_hot = one_hot_encode(test_seq, 8)\n",
        "print(one_hot)"
      ],
      "execution_count": 31,
      "outputs": [
        {
          "output_type": "stream",
          "text": [
            "[[[0. 0. 0. 1. 0. 0. 0. 0.]\n",
            "  [0. 0. 0. 0. 0. 1. 0. 0.]\n",
            "  [0. 1. 0. 0. 0. 0. 0. 0.]]]\n"
          ],
          "name": "stdout"
        }
      ]
    },
    {
      "cell_type": "markdown",
      "metadata": {
        "id": "szbP2NDAdu5c",
        "colab_type": "text"
      },
      "source": [
        "**Creating mini batches of data and using them to train our model**\n",
        "\n",
        "n batches, each batch has a m*k character array"
      ]
    },
    {
      "cell_type": "code",
      "metadata": {
        "id": "rYujgu7seCTQ",
        "colab_type": "code",
        "colab": {}
      },
      "source": [
        "def get_batches(arr, batch_size, seq_length): # return \"batchsize\" number of batches of size \"seqlength\" from the array\n",
        "   total = batch_size * seq_length \n",
        "   n = len(arr)//total # number of batches that can be made\n",
        "   arr = arr[:n * total]\n",
        "   arr = arr.reshape((batch_size, -1)) # change to row vector\n",
        "   for n in range(0, arr.shape[1], seq_length):\n",
        "        # The features\n",
        "        x = arr[:, n:n+seq_length]\n",
        "        # The targets, shifted by one\n",
        "        y = np.zeros_like(x) # Return an array of zeros with the same shape and type as a given array.\n",
        "        try:\n",
        "            y[:, :-1], y[:, -1] = x[:, 1:], arr[:, n+seq_length]\n",
        "        except IndexError:\n",
        "            y[:, :-1], y[:, -1] = x[:, 1:], arr[:, 0]\n",
        "        yield x, y # suspends function execution an returns values\n",
        "        # return sends a specified value back to its caller, whereas yield can produce a sequence of values. We should use yield when we want to iterate over a sequence but don't want to store the entire sequence in memory"
      ],
      "execution_count": 0,
      "outputs": []
    },
    {
      "cell_type": "code",
      "metadata": {
        "id": "f5fh05d3flOz",
        "colab_type": "code",
        "outputId": "48ff8ad3-3d16-4948-9886-ff3982ce2747",
        "colab": {
          "base_uri": "https://localhost:8080/",
          "height": 366
        }
      },
      "source": [
        "batches = get_batches(encode, 8, 50)\n",
        "x, y = next(batches)\n",
        "print('x\\n', x[:10, :10])\n",
        "print('\\ny\\n', y[:10, :10])"
      ],
      "execution_count": 33,
      "outputs": [
        {
          "output_type": "stream",
          "text": [
            "x\n",
            " [[54 57 43 65 80 69 72 31 59 77]\n",
            " [49 82 15 31 80 57 43 80 31 43]\n",
            " [69 15 40 31 82 72 31 43 31 74]\n",
            " [49 31 80 57 69 31 41 57 47 69]\n",
            " [31 49 43 23 31 57 69 72 31 80]\n",
            " [41 66 49 49 47 82 15 31 43 15]\n",
            " [31 20 15 15 43 31 57 43 40 31]\n",
            " [55 52 13 82 15 49  6 14  0 31]]\n",
            "\n",
            "y\n",
            " [[57 43 65 80 69 72 31 59 77 77]\n",
            " [82 15 31 80 57 43 80 31 43 80]\n",
            " [15 40 31 82 72 31 43 31 74 82]\n",
            " [31 80 57 69 31 41 57 47 69 74]\n",
            " [49 43 23 31 57 69 72 31 80 69]\n",
            " [66 49 49 47 82 15 31 43 15 40]\n",
            " [20 15 15 43 31 57 43 40 31 49]\n",
            " [52 13 82 15 49  6 14  0 31 60]]\n"
          ],
          "name": "stdout"
        }
      ]
    },
    {
      "cell_type": "markdown",
      "metadata": {
        "id": "I7nK5819giDt",
        "colab_type": "text"
      },
      "source": [
        "Model Structure\n",
        "\n",
        "In __init__ the suggested structure is as follows:\n",
        "\n",
        "    Create and store the necessary dictionaries (this has been done for you)\n",
        "    Define an LSTM layer that takes as params: an input size (the number of characters), a hidden layer size n_hidden, a number of layers n_layers, a dropout probability drop_prob, and a batch_first boolean (True, since we are batching)\n",
        "    Define a dropout layer with drop_prob\n",
        "    Define a fully-connected layer with params: input size n_hidden and output size (the number of characters)\n",
        "    Finally, initialize the weights (again, this has been given)\n"
      ]
    },
    {
      "cell_type": "code",
      "metadata": {
        "id": "uexTs2z_gP7c",
        "colab_type": "code",
        "outputId": "d6c9c6bf-2c76-41af-c4ba-612399222264",
        "colab": {
          "base_uri": "https://localhost:8080/",
          "height": 35
        }
      },
      "source": [
        "train_on_gpu = torch.cuda.is_available()\n",
        "if(train_on_gpu):\n",
        "    print('Training on GPU!')\n",
        "else: \n",
        "    print('No GPU available, training on CPU; consider making n_epochs very small.')"
      ],
      "execution_count": 34,
      "outputs": [
        {
          "output_type": "stream",
          "text": [
            "Training on GPU!\n"
          ],
          "name": "stdout"
        }
      ]
    },
    {
      "cell_type": "code",
      "metadata": {
        "id": "TKL7HxNIgwwG",
        "colab_type": "code",
        "colab": {}
      },
      "source": [
        "class CharRNN(nn.Module):\n",
        "    \n",
        "    def __init__(self, tokens, n_hidden=256, n_layers=2,\n",
        "                               drop_prob=0.5, lr=0.001):\n",
        "        super().__init__()\n",
        "        self.drop_prob = drop_prob\n",
        "        self.n_layers = n_layers\n",
        "        self.n_hidden = n_hidden\n",
        "        self.lr = lr\n",
        "        \n",
        "        # creating character dictionaries\n",
        "        self.chars = tokens\n",
        "        self.int2char = dict(enumerate(self.chars))\n",
        "        self.char2int = {ch: ii for ii, ch in self.int2char.items()}\n",
        "        self.lstm = nn.LSTM(len(self.chars), n_hidden, n_layers, \n",
        "                            dropout=drop_prob, batch_first=True)\n",
        "        self.dropout = nn.Dropout(drop_prob)\n",
        "        self.fc = nn.Linear(n_hidden, len(self.chars))\n",
        "      \n",
        "    \n",
        "    def forward(self, x, hidden):\n",
        "        r_output, hidden = self.lstm(x, hidden)\n",
        "        out = self.dropout(r_output)\n",
        "        # Stack up LSTM outputs using view\n",
        "        # you may need to use contiguous to reshape the output\n",
        "        out = out.contiguous().view(-1, self.n_hidden)\n",
        "        out = self.fc(out)\n",
        "        # return the final output and the hidden state\n",
        "        return out, hidden\n",
        "    \n",
        "    \n",
        "    def init_hidden(self, batch_size):\n",
        "        # Create two new tensors with sizes n_layers x batch_size x n_hidden,\n",
        "        # initialized to zero, for hidden state and cell state of LSTM\n",
        "        weight = next(self.parameters()).data\n",
        "        \n",
        "        if (train_on_gpu):\n",
        "            hidden = (weight.new(self.n_layers, batch_size, self.n_hidden).zero_().cuda(),\n",
        "                  weight.new(self.n_layers, batch_size, self.n_hidden).zero_().cuda())\n",
        "        else:\n",
        "            hidden = (weight.new(self.n_layers, batch_size, self.n_hidden).zero_(),\n",
        "                      weight.new(self.n_layers, batch_size, self.n_hidden).zero_())\n",
        "        \n",
        "        return hidden"
      ],
      "execution_count": 0,
      "outputs": []
    },
    {
      "cell_type": "code",
      "metadata": {
        "id": "OmSmYOIhj6cV",
        "colab_type": "code",
        "colab": {}
      },
      "source": [
        "def train(net, data, epochs=10, batch_size=10, seq_length=50, lr=0.001, clip=5, val_frac=0.1, print_every=10):\n",
        "    ''' Training a network \n",
        "    \n",
        "        Arguments\n",
        "        ---------\n",
        "        \n",
        "        net: CharRNN network\n",
        "        data: text data to train the network\n",
        "        epochs: Number of epochs to train\n",
        "        batch_size: Number of mini-sequences per mini-batch, aka batch size\n",
        "        seq_length: Number of character steps per mini-batch\n",
        "        lr: learning rate\n",
        "        clip: gradient clipping\n",
        "        val_frac: Fraction of data to hold out for validation\n",
        "        print_every: Number of steps for printing training and validation loss\n",
        "    \n",
        "    '''\n",
        "    net.train()\n",
        "    \n",
        "    opt = torch.optim.Adam(net.parameters(), lr=lr)\n",
        "    criterion = nn.CrossEntropyLoss()\n",
        "    \n",
        "    # create training and validation data\n",
        "    val_idx = int(len(data)*(1-val_frac))\n",
        "    data, val_data = data[:val_idx], data[val_idx:]\n",
        "    \n",
        "    if(train_on_gpu):\n",
        "        net.cuda()\n",
        "    \n",
        "    counter = 0\n",
        "    n_chars = len(net.chars)\n",
        "    for e in range(epochs):\n",
        "        # initialize hidden state\n",
        "        h = net.init_hidden(batch_size)\n",
        "        \n",
        "        for x, y in get_batches(data, batch_size, seq_length):\n",
        "            counter += 1\n",
        "            \n",
        "            # One-hot encode our data and make them Torch tensors\n",
        "            x = one_hot_encode(x, n_chars)\n",
        "            inputs, targets = torch.from_numpy(x), torch.from_numpy(y)\n",
        "            \n",
        "            if(train_on_gpu):\n",
        "                inputs, targets = inputs.cuda(), targets.cuda()\n",
        "\n",
        "            # Creating new variables for the hidden state, otherwise\n",
        "            # we'd backprop through the entire training history\n",
        "            h = tuple([each.data for each in h])\n",
        "\n",
        "            # zero accumulated gradients\n",
        "            net.zero_grad()\n",
        "            \n",
        "            # get the output from the model\n",
        "            output, h = net(inputs, h)\n",
        "            \n",
        "            # calculate the loss and perform backprop\n",
        "            loss = criterion(output, targets.view(batch_size*seq_length).long())\n",
        "            loss.backward()\n",
        "            # `clip_grad_norm` helps prevent the exploding gradient problem in RNNs / LSTMs.\n",
        "            nn.utils.clip_grad_norm_(net.parameters(), clip)\n",
        "            opt.step()\n",
        "            \n",
        "            # loss stats\n",
        "            if counter % print_every == 0:\n",
        "                # Get validation loss\n",
        "                val_h = net.init_hidden(batch_size)\n",
        "                val_losses = []\n",
        "                net.eval()\n",
        "                for x, y in get_batches(val_data, batch_size, seq_length):\n",
        "                    # One-hot encode our data and make them Torch tensors\n",
        "                    x = one_hot_encode(x, n_chars)\n",
        "                    x, y = torch.from_numpy(x), torch.from_numpy(y)\n",
        "                    \n",
        "                    # Creating new variables for the hidden state, otherwise\n",
        "                    # we'd backprop through the entire training history\n",
        "                    val_h = tuple([each.data for each in val_h])\n",
        "                    \n",
        "                    inputs, targets = x, y\n",
        "                    if(train_on_gpu):\n",
        "                        inputs, targets = inputs.cuda(), targets.cuda()\n",
        "\n",
        "                    output, val_h = net(inputs, val_h)\n",
        "                    val_loss = criterion(output, targets.view(batch_size*seq_length).long())\n",
        "                \n",
        "                    val_losses.append(val_loss.item())\n",
        "                \n",
        "                net.train() # reset to train mode after iterationg through validation data\n",
        "                \n",
        "                print(\"Epoch: {}/{}...\".format(e+1, epochs),\n",
        "                      \"Step: {}...\".format(counter),\n",
        "                      \"Loss: {:.4f}...\".format(loss.item()),\n",
        "                      \"Val Loss: {:.4f}\".format(np.mean(val_losses)))"
      ],
      "execution_count": 0,
      "outputs": []
    },
    {
      "cell_type": "code",
      "metadata": {
        "id": "eQpfpKf0kbgD",
        "colab_type": "code",
        "colab": {
          "base_uri": "https://localhost:8080/",
          "height": 1000
        },
        "outputId": "05759052-a2ae-47d4-9d23-c82f6399e631"
      },
      "source": [
        "n_hidden=512\n",
        "n_layers=2\n",
        "net = CharRNN(chars, n_hidden, n_layers)\n",
        "batch_size = 128\n",
        "seq_length = 100\n",
        "n_epochs = 10\n",
        "train(net, encode, epochs=n_epochs, batch_size=batch_size, seq_length=seq_length, lr=0.001, print_every=10)"
      ],
      "execution_count": 37,
      "outputs": [
        {
          "output_type": "stream",
          "text": [
            "Epoch: 1/10... Step: 10... Loss: 3.2699... Val Loss: 3.2445\n",
            "Epoch: 1/10... Step: 20... Loss: 3.1414... Val Loss: 3.1333\n",
            "Epoch: 1/10... Step: 30... Loss: 3.1406... Val Loss: 3.1229\n",
            "Epoch: 1/10... Step: 40... Loss: 3.1186... Val Loss: 3.1192\n",
            "Epoch: 1/10... Step: 50... Loss: 3.1467... Val Loss: 3.1175\n",
            "Epoch: 1/10... Step: 60... Loss: 3.1188... Val Loss: 3.1165\n",
            "Epoch: 1/10... Step: 70... Loss: 3.1114... Val Loss: 3.1153\n",
            "Epoch: 1/10... Step: 80... Loss: 3.1285... Val Loss: 3.1132\n",
            "Epoch: 1/10... Step: 90... Loss: 3.1228... Val Loss: 3.1067\n",
            "Epoch: 1/10... Step: 100... Loss: 3.0991... Val Loss: 3.0924\n",
            "Epoch: 1/10... Step: 110... Loss: 3.0746... Val Loss: 3.0600\n",
            "Epoch: 1/10... Step: 120... Loss: 3.0041... Val Loss: 2.9959\n",
            "Epoch: 1/10... Step: 130... Loss: 2.9407... Val Loss: 2.9244\n",
            "Epoch: 2/10... Step: 140... Loss: 2.8428... Val Loss: 2.8014\n",
            "Epoch: 2/10... Step: 150... Loss: 2.7513... Val Loss: 2.7040\n",
            "Epoch: 2/10... Step: 160... Loss: 2.6657... Val Loss: 2.6222\n",
            "Epoch: 2/10... Step: 170... Loss: 2.5590... Val Loss: 2.5513\n",
            "Epoch: 2/10... Step: 180... Loss: 2.5235... Val Loss: 2.4980\n",
            "Epoch: 2/10... Step: 190... Loss: 2.4669... Val Loss: 2.4653\n",
            "Epoch: 2/10... Step: 200... Loss: 2.4638... Val Loss: 2.4295\n",
            "Epoch: 2/10... Step: 210... Loss: 2.4295... Val Loss: 2.4031\n",
            "Epoch: 2/10... Step: 220... Loss: 2.3985... Val Loss: 2.3767\n",
            "Epoch: 2/10... Step: 230... Loss: 2.3858... Val Loss: 2.3597\n",
            "Epoch: 2/10... Step: 240... Loss: 2.3705... Val Loss: 2.3398\n",
            "Epoch: 2/10... Step: 250... Loss: 2.3110... Val Loss: 2.3094\n",
            "Epoch: 2/10... Step: 260... Loss: 2.2903... Val Loss: 2.2811\n",
            "Epoch: 2/10... Step: 270... Loss: 2.2885... Val Loss: 2.2584\n",
            "Epoch: 3/10... Step: 280... Loss: 2.2899... Val Loss: 2.2434\n",
            "Epoch: 3/10... Step: 290... Loss: 2.2527... Val Loss: 2.2128\n",
            "Epoch: 3/10... Step: 300... Loss: 2.2253... Val Loss: 2.1912\n",
            "Epoch: 3/10... Step: 310... Loss: 2.1966... Val Loss: 2.1687\n",
            "Epoch: 3/10... Step: 320... Loss: 2.1620... Val Loss: 2.1466\n",
            "Epoch: 3/10... Step: 330... Loss: 2.1322... Val Loss: 2.1267\n",
            "Epoch: 3/10... Step: 340... Loss: 2.1461... Val Loss: 2.1153\n",
            "Epoch: 3/10... Step: 350... Loss: 2.1345... Val Loss: 2.0928\n",
            "Epoch: 3/10... Step: 360... Loss: 2.0571... Val Loss: 2.0720\n",
            "Epoch: 3/10... Step: 370... Loss: 2.0933... Val Loss: 2.0502\n",
            "Epoch: 3/10... Step: 380... Loss: 2.0672... Val Loss: 2.0369\n",
            "Epoch: 3/10... Step: 390... Loss: 2.0404... Val Loss: 2.0173\n",
            "Epoch: 3/10... Step: 400... Loss: 2.0003... Val Loss: 2.0004\n",
            "Epoch: 3/10... Step: 410... Loss: 2.0217... Val Loss: 1.9858\n",
            "Epoch: 4/10... Step: 420... Loss: 2.0070... Val Loss: 1.9700\n",
            "Epoch: 4/10... Step: 430... Loss: 1.9967... Val Loss: 1.9561\n",
            "Epoch: 4/10... Step: 440... Loss: 1.9678... Val Loss: 1.9431\n",
            "Epoch: 4/10... Step: 450... Loss: 1.9108... Val Loss: 1.9247\n",
            "Epoch: 4/10... Step: 460... Loss: 1.9086... Val Loss: 1.9189\n",
            "Epoch: 4/10... Step: 470... Loss: 1.9418... Val Loss: 1.9060\n",
            "Epoch: 4/10... Step: 480... Loss: 1.9128... Val Loss: 1.8889\n",
            "Epoch: 4/10... Step: 490... Loss: 1.9229... Val Loss: 1.8791\n",
            "Epoch: 4/10... Step: 500... Loss: 1.9197... Val Loss: 1.8670\n",
            "Epoch: 4/10... Step: 510... Loss: 1.8883... Val Loss: 1.8588\n",
            "Epoch: 4/10... Step: 520... Loss: 1.9053... Val Loss: 1.8447\n",
            "Epoch: 4/10... Step: 530... Loss: 1.8574... Val Loss: 1.8349\n",
            "Epoch: 4/10... Step: 540... Loss: 1.8155... Val Loss: 1.8214\n",
            "Epoch: 4/10... Step: 550... Loss: 1.8618... Val Loss: 1.8105\n",
            "Epoch: 5/10... Step: 560... Loss: 1.8255... Val Loss: 1.7990\n",
            "Epoch: 5/10... Step: 570... Loss: 1.8136... Val Loss: 1.7874\n",
            "Epoch: 5/10... Step: 580... Loss: 1.7890... Val Loss: 1.7787\n",
            "Epoch: 5/10... Step: 590... Loss: 1.7964... Val Loss: 1.7740\n",
            "Epoch: 5/10... Step: 600... Loss: 1.7786... Val Loss: 1.7717\n",
            "Epoch: 5/10... Step: 610... Loss: 1.7660... Val Loss: 1.7566\n",
            "Epoch: 5/10... Step: 620... Loss: 1.7648... Val Loss: 1.7484\n",
            "Epoch: 5/10... Step: 630... Loss: 1.7889... Val Loss: 1.7405\n",
            "Epoch: 5/10... Step: 640... Loss: 1.7617... Val Loss: 1.7288\n",
            "Epoch: 5/10... Step: 650... Loss: 1.7391... Val Loss: 1.7201\n",
            "Epoch: 5/10... Step: 660... Loss: 1.7123... Val Loss: 1.7161\n",
            "Epoch: 5/10... Step: 670... Loss: 1.7438... Val Loss: 1.7105\n",
            "Epoch: 5/10... Step: 680... Loss: 1.7402... Val Loss: 1.6992\n",
            "Epoch: 5/10... Step: 690... Loss: 1.7068... Val Loss: 1.6935\n",
            "Epoch: 6/10... Step: 700... Loss: 1.7139... Val Loss: 1.6852\n",
            "Epoch: 6/10... Step: 710... Loss: 1.7021... Val Loss: 1.6811\n",
            "Epoch: 6/10... Step: 720... Loss: 1.6861... Val Loss: 1.6750\n",
            "Epoch: 6/10... Step: 730... Loss: 1.6978... Val Loss: 1.6639\n",
            "Epoch: 6/10... Step: 740... Loss: 1.6703... Val Loss: 1.6630\n",
            "Epoch: 6/10... Step: 750... Loss: 1.6483... Val Loss: 1.6555\n",
            "Epoch: 6/10... Step: 760... Loss: 1.6933... Val Loss: 1.6533\n",
            "Epoch: 6/10... Step: 770... Loss: 1.6533... Val Loss: 1.6455\n",
            "Epoch: 6/10... Step: 780... Loss: 1.6406... Val Loss: 1.6344\n",
            "Epoch: 6/10... Step: 790... Loss: 1.6383... Val Loss: 1.6332\n",
            "Epoch: 6/10... Step: 800... Loss: 1.6540... Val Loss: 1.6266\n",
            "Epoch: 6/10... Step: 810... Loss: 1.6339... Val Loss: 1.6246\n",
            "Epoch: 6/10... Step: 820... Loss: 1.6031... Val Loss: 1.6201\n",
            "Epoch: 6/10... Step: 830... Loss: 1.6499... Val Loss: 1.6091\n",
            "Epoch: 7/10... Step: 840... Loss: 1.5962... Val Loss: 1.6068\n",
            "Epoch: 7/10... Step: 850... Loss: 1.6156... Val Loss: 1.6030\n",
            "Epoch: 7/10... Step: 860... Loss: 1.5919... Val Loss: 1.5962\n",
            "Epoch: 7/10... Step: 870... Loss: 1.6079... Val Loss: 1.5906\n",
            "Epoch: 7/10... Step: 880... Loss: 1.6137... Val Loss: 1.5896\n",
            "Epoch: 7/10... Step: 890... Loss: 1.6026... Val Loss: 1.5874\n",
            "Epoch: 7/10... Step: 900... Loss: 1.5767... Val Loss: 1.5823\n",
            "Epoch: 7/10... Step: 910... Loss: 1.5640... Val Loss: 1.5788\n",
            "Epoch: 7/10... Step: 920... Loss: 1.5798... Val Loss: 1.5694\n",
            "Epoch: 7/10... Step: 930... Loss: 1.5741... Val Loss: 1.5654\n",
            "Epoch: 7/10... Step: 940... Loss: 1.5765... Val Loss: 1.5625\n",
            "Epoch: 7/10... Step: 950... Loss: 1.5807... Val Loss: 1.5564\n",
            "Epoch: 7/10... Step: 960... Loss: 1.5867... Val Loss: 1.5570\n",
            "Epoch: 7/10... Step: 970... Loss: 1.5828... Val Loss: 1.5511\n",
            "Epoch: 8/10... Step: 980... Loss: 1.5522... Val Loss: 1.5446\n",
            "Epoch: 8/10... Step: 990... Loss: 1.5605... Val Loss: 1.5441\n",
            "Epoch: 8/10... Step: 1000... Loss: 1.5546... Val Loss: 1.5378\n",
            "Epoch: 8/10... Step: 1010... Loss: 1.5843... Val Loss: 1.5372\n",
            "Epoch: 8/10... Step: 1020... Loss: 1.5595... Val Loss: 1.5328\n",
            "Epoch: 8/10... Step: 1030... Loss: 1.5317... Val Loss: 1.5289\n",
            "Epoch: 8/10... Step: 1040... Loss: 1.5511... Val Loss: 1.5267\n",
            "Epoch: 8/10... Step: 1050... Loss: 1.5246... Val Loss: 1.5260\n",
            "Epoch: 8/10... Step: 1060... Loss: 1.5325... Val Loss: 1.5152\n",
            "Epoch: 8/10... Step: 1070... Loss: 1.5282... Val Loss: 1.5144\n",
            "Epoch: 8/10... Step: 1080... Loss: 1.5266... Val Loss: 1.5141\n",
            "Epoch: 8/10... Step: 1090... Loss: 1.5113... Val Loss: 1.5091\n",
            "Epoch: 8/10... Step: 1100... Loss: 1.4904... Val Loss: 1.5046\n",
            "Epoch: 8/10... Step: 1110... Loss: 1.5143... Val Loss: 1.4998\n",
            "Epoch: 9/10... Step: 1120... Loss: 1.5157... Val Loss: 1.4998\n",
            "Epoch: 9/10... Step: 1130... Loss: 1.5169... Val Loss: 1.4969\n",
            "Epoch: 9/10... Step: 1140... Loss: 1.5039... Val Loss: 1.4909\n",
            "Epoch: 9/10... Step: 1150... Loss: 1.5260... Val Loss: 1.4895\n",
            "Epoch: 9/10... Step: 1160... Loss: 1.4755... Val Loss: 1.4875\n",
            "Epoch: 9/10... Step: 1170... Loss: 1.4924... Val Loss: 1.4885\n",
            "Epoch: 9/10... Step: 1180... Loss: 1.4772... Val Loss: 1.4837\n",
            "Epoch: 9/10... Step: 1190... Loss: 1.5244... Val Loss: 1.4816\n",
            "Epoch: 9/10... Step: 1200... Loss: 1.4486... Val Loss: 1.4787\n",
            "Epoch: 9/10... Step: 1210... Loss: 1.4757... Val Loss: 1.4746\n",
            "Epoch: 9/10... Step: 1220... Loss: 1.4785... Val Loss: 1.4733\n",
            "Epoch: 9/10... Step: 1230... Loss: 1.4538... Val Loss: 1.4723\n",
            "Epoch: 9/10... Step: 1240... Loss: 1.4611... Val Loss: 1.4657\n",
            "Epoch: 9/10... Step: 1250... Loss: 1.4743... Val Loss: 1.4647\n",
            "Epoch: 10/10... Step: 1260... Loss: 1.4681... Val Loss: 1.4658\n",
            "Epoch: 10/10... Step: 1270... Loss: 1.4623... Val Loss: 1.4604\n",
            "Epoch: 10/10... Step: 1280... Loss: 1.4775... Val Loss: 1.4556\n",
            "Epoch: 10/10... Step: 1290... Loss: 1.4667... Val Loss: 1.4569\n",
            "Epoch: 10/10... Step: 1300... Loss: 1.4610... Val Loss: 1.4589\n",
            "Epoch: 10/10... Step: 1310... Loss: 1.4568... Val Loss: 1.4528\n",
            "Epoch: 10/10... Step: 1320... Loss: 1.4329... Val Loss: 1.4521\n",
            "Epoch: 10/10... Step: 1330... Loss: 1.4385... Val Loss: 1.4486\n",
            "Epoch: 10/10... Step: 1340... Loss: 1.4258... Val Loss: 1.4433\n",
            "Epoch: 10/10... Step: 1350... Loss: 1.4164... Val Loss: 1.4409\n",
            "Epoch: 10/10... Step: 1360... Loss: 1.4301... Val Loss: 1.4404\n",
            "Epoch: 10/10... Step: 1370... Loss: 1.4099... Val Loss: 1.4395\n",
            "Epoch: 10/10... Step: 1380... Loss: 1.4549... Val Loss: 1.4372\n",
            "Epoch: 10/10... Step: 1390... Loss: 1.4536... Val Loss: 1.4358\n"
          ],
          "name": "stdout"
        }
      ]
    },
    {
      "cell_type": "code",
      "metadata": {
        "id": "1gJqokKAyJD-",
        "colab_type": "code",
        "colab": {}
      },
      "source": [
        "# change the name, for saving multiple files\n",
        "model_name = 'rnn_20_epoch.net'\n",
        "\n",
        "checkpoint = {'n_hidden': net.n_hidden,\n",
        "              'n_layers': net.n_layers,\n",
        "              'state_dict': net.state_dict(),\n",
        "              'tokens': net.chars}\n",
        "\n",
        "with open(model_name, 'wb') as f:\n",
        "    torch.save(checkpoint, f)"
      ],
      "execution_count": 0,
      "outputs": []
    },
    {
      "cell_type": "code",
      "metadata": {
        "id": "6tI2NnmmyPjn",
        "colab_type": "code",
        "colab": {}
      },
      "source": [
        "def predict(net, char, h=None, top_k=None):\n",
        "        ''' Given a character, predict the next character.\n",
        "            Returns the predicted character and the hidden state.\n",
        "        '''\n",
        "        \n",
        "        # tensor inputs\n",
        "        x = np.array([[net.char2int[char]]])\n",
        "        x = one_hot_encode(x, len(net.chars))\n",
        "        inputs = torch.from_numpy(x)\n",
        "        \n",
        "        if(train_on_gpu):\n",
        "            inputs = inputs.cuda()\n",
        "        \n",
        "        # detach hidden state from history\n",
        "        h = tuple([each.data for each in h])\n",
        "        # get the output of the model\n",
        "        out, h = net(inputs, h)\n",
        "\n",
        "        # get the character probabilities\n",
        "        p = F.softmax(out, dim=1).data\n",
        "        if(train_on_gpu):\n",
        "            p = p.cpu() # move to cpu\n",
        "        \n",
        "        # get top characters\n",
        "        if top_k is None:\n",
        "            top_ch = np.arange(len(net.chars))\n",
        "        else:\n",
        "            p, top_ch = p.topk(top_k)\n",
        "            top_ch = top_ch.numpy().squeeze()\n",
        "        \n",
        "        # select the likely next character with some element of randomness\n",
        "        p = p.numpy().squeeze()\n",
        "        char = np.random.choice(top_ch, p=p/p.sum())\n",
        "        \n",
        "        # return the encoded value of the predicted char and the hidden state\n",
        "        return net.int2char[char], h"
      ],
      "execution_count": 0,
      "outputs": []
    },
    {
      "cell_type": "code",
      "metadata": {
        "id": "wYuebY5FyRaJ",
        "colab_type": "code",
        "colab": {}
      },
      "source": [
        "def sample(net, size, prime='The', top_k=None):\n",
        "        \n",
        "    if(train_on_gpu):\n",
        "        net.cuda()\n",
        "    else:\n",
        "        net.cpu()\n",
        "    \n",
        "    net.eval() # eval mode\n",
        "    \n",
        "    # First off, run through the prime characters\n",
        "    chars = [ch for ch in prime]\n",
        "    h = net.init_hidden(1)\n",
        "    for ch in prime:\n",
        "        char, h = predict(net, ch, h, top_k=top_k)\n",
        "\n",
        "    chars.append(char)\n",
        "    \n",
        "    # Now pass in the previous character and get a new one\n",
        "    for ii in range(size):\n",
        "        char, h = predict(net, chars[-1], h, top_k=top_k)\n",
        "        chars.append(char)\n",
        "\n",
        "    return ''.join(chars)"
      ],
      "execution_count": 0,
      "outputs": []
    },
    {
      "cell_type": "code",
      "metadata": {
        "id": "TwnRk8tryZCy",
        "colab_type": "code",
        "colab": {
          "base_uri": "https://localhost:8080/",
          "height": 313
        },
        "outputId": "04701538-b86a-4224-d89f-19374f870e02"
      },
      "source": [
        "print(sample(net, 1000, prime='Anna', top_k=5))"
      ],
      "execution_count": 41,
      "outputs": [
        {
          "output_type": "stream",
          "text": [
            "Anna's life, but the memory,\n",
            "who had no sett the steps, and she could not be sainting.\n",
            "\n",
            "The country, the concomistic all he compliced out to\n",
            "her face, and she was a studient of\n",
            "the came, at the man at his hand about in a charge to the minds\n",
            "out of her, and the persons were so still his strings and streat taking out and as all taken. \"Which he sudd to the most moment work on any moment is it all with a man women and so tell, at the forest is that side, and and so all, and the point in an one of it with your men with minuse to\n",
            "be, and thinking, and the dear as they was never serted.\"\n",
            "\n",
            "He\n",
            "thinking was something, at the stringe of shail that steps in the feeling of the cried to the\n",
            "calling of the position, become, and the cheer and horsing had been drinking to the secret and answered to her said. The\n",
            "position what he had not all her something and however\n",
            "and telring him themelly and work he sat this to the same, whener Anna, the continuaned of the chore,\n",
            "but and to be and the drass. That his si\n"
          ],
          "name": "stdout"
        }
      ]
    }
  ]
}