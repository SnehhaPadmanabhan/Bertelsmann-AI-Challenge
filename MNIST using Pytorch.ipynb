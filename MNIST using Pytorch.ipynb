{
 "cells": [
  {
   "cell_type": "code",
   "execution_count": 1,
   "metadata": {},
   "outputs": [
    {
     "name": "stdout",
     "output_type": "stream",
     "text": [
      "Collecting package metadata (current_repodata.json): done\n",
      "Solving environment: done\n",
      "\n",
      "\n",
      "==> WARNING: A newer version of conda exists. <==\n",
      "  current version: 4.7.10\n",
      "  latest version: 4.8.0\n",
      "\n",
      "Please update conda by running\n",
      "\n",
      "    $ conda update -n base conda\n",
      "\n",
      "\n",
      "\n",
      "## Package Plan ##\n",
      "\n",
      "  environment location: /srv/conda/envs/notebook\n",
      "\n",
      "  added / updated specs:\n",
      "    - pytorch-cpu\n",
      "    - torchvision-cpu\n",
      "\n",
      "\n",
      "The following packages will be downloaded:\n",
      "\n",
      "    package                    |            build\n",
      "    ---------------------------|-----------------\n",
      "    ca-certificates-2019.11.28 |       hecc5488_0         145 KB  conda-forge\n",
      "    certifi-2019.11.28         |           py36_0         149 KB  conda-forge\n",
      "    intel-openmp-2019.4        |              243         729 KB  defaults\n",
      "    mkl-2019.4                 |              243       131.2 MB  defaults\n",
      "    ninja-1.9.0                |       hc9558a2_1         1.6 MB  conda-forge\n",
      "    openssl-1.1.1d             |       h516909a_0         2.1 MB  conda-forge\n",
      "    pytorch-cpu-1.1.0          |      py3.6_cpu_0        53.5 MB  pytorch\n",
      "    torchvision-cpu-0.3.0      |    py36_cuNone_1         3.8 MB  pytorch\n",
      "    ------------------------------------------------------------\n",
      "                                           Total:       193.3 MB\n",
      "\n",
      "The following NEW packages will be INSTALLED:\n",
      "\n",
      "  intel-openmp       pkgs/main/linux-64::intel-openmp-2019.4-243\n",
      "  mkl                pkgs/main/linux-64::mkl-2019.4-243\n",
      "  ninja              conda-forge/linux-64::ninja-1.9.0-hc9558a2_1\n",
      "  pytorch-cpu        pytorch/linux-64::pytorch-cpu-1.1.0-py3.6_cpu_0\n",
      "  torchvision-cpu    pytorch/linux-64::torchvision-cpu-0.3.0-py36_cuNone_1\n",
      "\n",
      "The following packages will be UPDATED:\n",
      "\n",
      "  ca-certificates                      2019.6.16-hecc5488_0 --> 2019.11.28-hecc5488_0\n",
      "  certifi                                  2019.6.16-py36_1 --> 2019.11.28-py36_0\n",
      "  openssl                                 1.1.1c-h516909a_0 --> 1.1.1d-h516909a_0\n",
      "\n",
      "\n",
      "\n",
      "Downloading and Extracting Packages\n",
      "openssl-1.1.1d       | 2.1 MB    | ##################################### | 100% \n",
      "pytorch-cpu-1.1.0    | 53.5 MB   | ##################################### | 100% \n",
      "mkl-2019.4           | 131.2 MB  | ##################################### | 100% \n",
      "ninja-1.9.0          | 1.6 MB    | ##################################### | 100% \n",
      "torchvision-cpu-0.3. | 3.8 MB    | ##################################### | 100% \n",
      "intel-openmp-2019.4  | 729 KB    | ##################################### | 100% \n",
      "ca-certificates-2019 | 145 KB    | ##################################### | 100% \n",
      "certifi-2019.11.28   | 149 KB    | ##################################### | 100% \n",
      "Preparing transaction: done\n",
      "Verifying transaction: done\n",
      "Executing transaction: done\n",
      "\n",
      "Note: you may need to restart the kernel to use updated packages.\n"
     ]
    }
   ],
   "source": [
    "conda install pytorch-cpu torchvision-cpu -c pytorch"
   ]
  },
  {
   "cell_type": "code",
   "execution_count": 2,
   "metadata": {},
   "outputs": [],
   "source": [
    "from torch import nn"
   ]
  },
  {
   "cell_type": "code",
   "execution_count": 3,
   "metadata": {},
   "outputs": [],
   "source": [
    "class Network(nn.Module): #module is a class ; it provides with higer level API - mandatory to inherit\n",
    "    def __init__(self): #init is the constructor\n",
    "        super().__init__() \n",
    "        self.hidden = nn.Linear(784, 256) #.self in python is equivalent to .this in c++ == for referencing the calling object\n",
    "        self.output = nn.Linear(256, 10)\n",
    "        self.sigmoid = nn.Sigmoid()\n",
    "        self.softmax = nn.Softmax(dim=1)\n",
    "        \n",
    "    def forward(self, x):\n",
    "        x = self.hidden(x)\n",
    "        x = self.sigmoid(x)\n",
    "        x = self.output(x)\n",
    "        x = self.softmax(x)\n",
    "        return x"
   ]
  },
  {
   "cell_type": "code",
   "execution_count": 4,
   "metadata": {},
   "outputs": [
    {
     "data": {
      "text/plain": [
       "Network(\n",
       "  (hidden): Linear(in_features=784, out_features=256, bias=True)\n",
       "  (output): Linear(in_features=256, out_features=10, bias=True)\n",
       "  (sigmoid): Sigmoid()\n",
       "  (softmax): Softmax()\n",
       ")"
      ]
     },
     "execution_count": 4,
     "metadata": {},
     "output_type": "execute_result"
    }
   ],
   "source": [
    "model = Network()\n",
    "model"
   ]
  },
  {
   "cell_type": "code",
   "execution_count": null,
   "metadata": {},
   "outputs": [],
   "source": []
  }
 ],
 "metadata": {
  "kernelspec": {
   "display_name": "Python 3",
   "language": "python",
   "name": "python3"
  },
  "language_info": {
   "codemirror_mode": {
    "name": "ipython",
    "version": 3
   },
   "file_extension": ".py",
   "mimetype": "text/x-python",
   "name": "python",
   "nbconvert_exporter": "python",
   "pygments_lexer": "ipython3",
   "version": "3.6.7"
  }
 },
 "nbformat": 4,
 "nbformat_minor": 2
}
