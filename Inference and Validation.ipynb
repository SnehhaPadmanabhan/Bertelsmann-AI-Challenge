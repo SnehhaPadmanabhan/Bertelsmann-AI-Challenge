{
  "nbformat": 4,
  "nbformat_minor": 0,
  "metadata": {
    "colab": {
      "name": "Inference, Validation and Dropout.ipynb",
      "provenance": [],
      "include_colab_link": true
    },
    "kernelspec": {
      "name": "python3",
      "display_name": "Python 3"
    }
  },
  "cells": [
    {
      "cell_type": "markdown",
      "metadata": {
        "id": "view-in-github",
        "colab_type": "text"
      },
      "source": [
        "<a href=\"https://colab.research.google.com/github/SnehhaPadmanabhan/Bertelsmann-AI-Challenge/blob/master/Inference%20and%20Validation.ipynb\" target=\"_parent\"><img src=\"https://colab.research.google.com/assets/colab-badge.svg\" alt=\"Open In Colab\"/></a>"
      ]
    },
    {
      "cell_type": "code",
      "metadata": {
        "id": "oFVv7HJwC2hr",
        "colab_type": "code",
        "colab": {
          "base_uri": "https://localhost:8080/",
          "height": 294
        },
        "outputId": "b50ab162-263a-4777-8852-68c9f84baa1d"
      },
      "source": [
        "import torch\n",
        "from torchvision import datasets, transforms\n",
        "transform = transforms.Compose([transforms.ToTensor(),transforms.Normalize((0.5,), (0.5,))])\n",
        "trainset = datasets.FashionMNIST('~/.pytorch/F_MNIST_data/', download=True, train=True, transform=transform)\n",
        "trainloader = torch.utils.data.DataLoader(trainset, batch_size=64, shuffle=True)\n",
        "testset = datasets.FashionMNIST('~/.pytorch/F_MNIST_data/', download=True, train=False, transform=transform)\n",
        "testloader = torch.utils.data.DataLoader(testset, batch_size=64, shuffle=True)"
      ],
      "execution_count": 1,
      "outputs": [
        {
          "output_type": "stream",
          "text": [
            "\r0it [00:00, ?it/s]"
          ],
          "name": "stderr"
        },
        {
          "output_type": "stream",
          "text": [
            "Downloading http://fashion-mnist.s3-website.eu-central-1.amazonaws.com/train-images-idx3-ubyte.gz to /root/.pytorch/F_MNIST_data/FashionMNIST/raw/train-images-idx3-ubyte.gz\n"
          ],
          "name": "stdout"
        },
        {
          "output_type": "stream",
          "text": [
            "26427392it [00:02, 10529559.60it/s]                             \n"
          ],
          "name": "stderr"
        },
        {
          "output_type": "stream",
          "text": [
            "Extracting /root/.pytorch/F_MNIST_data/FashionMNIST/raw/train-images-idx3-ubyte.gz to /root/.pytorch/F_MNIST_data/FashionMNIST/raw\n"
          ],
          "name": "stdout"
        },
        {
          "output_type": "stream",
          "text": [
            "\r0it [00:00, ?it/s]"
          ],
          "name": "stderr"
        },
        {
          "output_type": "stream",
          "text": [
            "Downloading http://fashion-mnist.s3-website.eu-central-1.amazonaws.com/train-labels-idx1-ubyte.gz to /root/.pytorch/F_MNIST_data/FashionMNIST/raw/train-labels-idx1-ubyte.gz\n"
          ],
          "name": "stdout"
        },
        {
          "output_type": "stream",
          "text": [
            "32768it [00:00, 70406.23it/s]                            \n",
            "0it [00:00, ?it/s]"
          ],
          "name": "stderr"
        },
        {
          "output_type": "stream",
          "text": [
            "Extracting /root/.pytorch/F_MNIST_data/FashionMNIST/raw/train-labels-idx1-ubyte.gz to /root/.pytorch/F_MNIST_data/FashionMNIST/raw\n",
            "Downloading http://fashion-mnist.s3-website.eu-central-1.amazonaws.com/t10k-images-idx3-ubyte.gz to /root/.pytorch/F_MNIST_data/FashionMNIST/raw/t10k-images-idx3-ubyte.gz\n"
          ],
          "name": "stdout"
        },
        {
          "output_type": "stream",
          "text": [
            "4423680it [00:01, 2976986.00it/s]                            \n",
            "0it [00:00, ?it/s]"
          ],
          "name": "stderr"
        },
        {
          "output_type": "stream",
          "text": [
            "Extracting /root/.pytorch/F_MNIST_data/FashionMNIST/raw/t10k-images-idx3-ubyte.gz to /root/.pytorch/F_MNIST_data/FashionMNIST/raw\n",
            "Downloading http://fashion-mnist.s3-website.eu-central-1.amazonaws.com/t10k-labels-idx1-ubyte.gz to /root/.pytorch/F_MNIST_data/FashionMNIST/raw/t10k-labels-idx1-ubyte.gz\n"
          ],
          "name": "stdout"
        },
        {
          "output_type": "stream",
          "text": [
            "8192it [00:00, 23362.32it/s]            "
          ],
          "name": "stderr"
        },
        {
          "output_type": "stream",
          "text": [
            "Extracting /root/.pytorch/F_MNIST_data/FashionMNIST/raw/t10k-labels-idx1-ubyte.gz to /root/.pytorch/F_MNIST_data/FashionMNIST/raw\n",
            "Processing...\n",
            "Done!\n"
          ],
          "name": "stdout"
        },
        {
          "output_type": "stream",
          "text": [
            "\n"
          ],
          "name": "stderr"
        }
      ]
    },
    {
      "cell_type": "code",
      "metadata": {
        "id": "0CfN4jbQDI3z",
        "colab_type": "code",
        "colab": {
          "base_uri": "https://localhost:8080/",
          "height": 568
        },
        "outputId": "368cbb5b-d343-4f5c-d93e-b4dbd97e18c7"
      },
      "source": [
        "from torch import optim,nn\n",
        "model = nn.Sequential(\n",
        "    nn.Linear(784,256),\n",
        "    nn.ReLU(),\n",
        "    nn.Linear(256,128),\n",
        "    nn.ReLU(),\n",
        "    nn.Linear(128,64),\n",
        "    nn.ReLU(),\n",
        "    nn.Linear(64,10), \n",
        "    nn.LogSoftmax(dim=1)\n",
        ")\n",
        "criterion = nn.NLLLoss()\n",
        "optimizer = optim.Adam(model.parameters(), lr=0.003)\n",
        "\n",
        "epochs = 30\n",
        "steps = 0\n",
        "\n",
        "train_losses, test_losses = [], []\n",
        "for e in range(epochs):\n",
        "    running_loss = 0\n",
        "    for images, labels in trainloader:\n",
        "        \n",
        "        optimizer.zero_grad()\n",
        "        images = images.view(images.shape[0], -1)\n",
        "        log_ps = model(images)\n",
        "        loss = criterion(log_ps, labels)\n",
        "        loss.backward()\n",
        "        optimizer.step()\n",
        "        \n",
        "        running_loss += loss.item()\n",
        "        \n",
        "    else:\n",
        "        test_loss = 0\n",
        "        accuracy = 0\n",
        "        with torch.no_grad():\n",
        "            for images, labels in testloader:\n",
        "                images = images.view(images.shape[0], -1)\n",
        "                output = model(images)\n",
        "                test_loss += criterion(output, labels)\n",
        "                \n",
        "                ps = torch.exp(output)\n",
        "                top_p, top_class = ps.topk(1, dim=1)\n",
        "                equals = top_class == labels.view(*top_class.shape)\n",
        "                accuracy += torch.mean(equals.type(torch.FloatTensor))\n",
        "                \n",
        "        train_losses.append(running_loss/len(trainloader))\n",
        "        test_losses.append(test_loss/len(testloader))\n",
        "\n",
        "        print(\"Epoch: {}/{}.. \".format(e+1, epochs),\n",
        "              \"Training Loss: {:.3f}.. \".format(running_loss/len(trainloader)),\n",
        "              \"Test Loss: {:.3f}.. \".format(test_loss/len(testloader)),\n",
        "              \"Test Accuracy: {:.3f}\".format(accuracy/len(testloader)))"
      ],
      "execution_count": 5,
      "outputs": [
        {
          "output_type": "stream",
          "text": [
            "Epoch: 1/30..  Training Loss: 0.514..  Test Loss: 0.441..  Test Accuracy: 0.838\n",
            "Epoch: 2/30..  Training Loss: 0.391..  Test Loss: 0.405..  Test Accuracy: 0.853\n",
            "Epoch: 3/30..  Training Loss: 0.354..  Test Loss: 0.420..  Test Accuracy: 0.849\n",
            "Epoch: 4/30..  Training Loss: 0.331..  Test Loss: 0.381..  Test Accuracy: 0.862\n",
            "Epoch: 5/30..  Training Loss: 0.315..  Test Loss: 0.366..  Test Accuracy: 0.871\n",
            "Epoch: 6/30..  Training Loss: 0.305..  Test Loss: 0.373..  Test Accuracy: 0.866\n",
            "Epoch: 7/30..  Training Loss: 0.292..  Test Loss: 0.361..  Test Accuracy: 0.877\n",
            "Epoch: 8/30..  Training Loss: 0.282..  Test Loss: 0.377..  Test Accuracy: 0.876\n",
            "Epoch: 9/30..  Training Loss: 0.279..  Test Loss: 0.353..  Test Accuracy: 0.879\n",
            "Epoch: 10/30..  Training Loss: 0.264..  Test Loss: 0.360..  Test Accuracy: 0.873\n",
            "Epoch: 11/30..  Training Loss: 0.261..  Test Loss: 0.378..  Test Accuracy: 0.874\n",
            "Epoch: 12/30..  Training Loss: 0.249..  Test Loss: 0.370..  Test Accuracy: 0.878\n",
            "Epoch: 13/30..  Training Loss: 0.249..  Test Loss: 0.359..  Test Accuracy: 0.883\n",
            "Epoch: 14/30..  Training Loss: 0.242..  Test Loss: 0.400..  Test Accuracy: 0.879\n",
            "Epoch: 15/30..  Training Loss: 0.237..  Test Loss: 0.384..  Test Accuracy: 0.876\n",
            "Epoch: 16/30..  Training Loss: 0.232..  Test Loss: 0.357..  Test Accuracy: 0.887\n",
            "Epoch: 17/30..  Training Loss: 0.225..  Test Loss: 0.397..  Test Accuracy: 0.882\n",
            "Epoch: 18/30..  Training Loss: 0.227..  Test Loss: 0.374..  Test Accuracy: 0.884\n",
            "Epoch: 19/30..  Training Loss: 0.217..  Test Loss: 0.387..  Test Accuracy: 0.881\n",
            "Epoch: 20/30..  Training Loss: 0.215..  Test Loss: 0.378..  Test Accuracy: 0.887\n",
            "Epoch: 21/30..  Training Loss: 0.210..  Test Loss: 0.406..  Test Accuracy: 0.885\n",
            "Epoch: 22/30..  Training Loss: 0.209..  Test Loss: 0.404..  Test Accuracy: 0.881\n",
            "Epoch: 23/30..  Training Loss: 0.207..  Test Loss: 0.389..  Test Accuracy: 0.885\n",
            "Epoch: 24/30..  Training Loss: 0.204..  Test Loss: 0.392..  Test Accuracy: 0.883\n",
            "Epoch: 25/30..  Training Loss: 0.196..  Test Loss: 0.388..  Test Accuracy: 0.882\n",
            "Epoch: 26/30..  Training Loss: 0.198..  Test Loss: 0.444..  Test Accuracy: 0.876\n",
            "Epoch: 27/30..  Training Loss: 0.192..  Test Loss: 0.406..  Test Accuracy: 0.885\n",
            "Epoch: 28/30..  Training Loss: 0.188..  Test Loss: 0.400..  Test Accuracy: 0.883\n",
            "Epoch: 29/30..  Training Loss: 0.187..  Test Loss: 0.414..  Test Accuracy: 0.888\n",
            "Epoch: 30/30..  Training Loss: 0.188..  Test Loss: 0.398..  Test Accuracy: 0.882\n"
          ],
          "name": "stdout"
        }
      ]
    }
  ]
}