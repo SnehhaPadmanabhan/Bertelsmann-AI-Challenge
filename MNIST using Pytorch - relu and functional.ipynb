{
 "cells": [
  {
   "cell_type": "code",
   "execution_count": 1,
   "metadata": {},
   "outputs": [
    {
     "name": "stdout",
     "output_type": "stream",
     "text": [
      "Collecting package metadata (current_repodata.json): done\n",
      "Solving environment: done\n",
      "\n",
      "\n",
      "==> WARNING: A newer version of conda exists. <==\n",
      "  current version: 4.7.10\n",
      "  latest version: 4.8.0\n",
      "\n",
      "Please update conda by running\n",
      "\n",
      "    $ conda update -n base conda\n",
      "\n",
      "\n",
      "\n",
      "# All requested packages already installed.\n",
      "\n",
      "\n",
      "Note: you may need to restart the kernel to use updated packages.\n"
     ]
    }
   ],
   "source": [
    "conda install pytorch-cpu torchvision-cpu -c pytorch"
   ]
  },
  {
   "cell_type": "code",
   "execution_count": 9,
   "metadata": {},
   "outputs": [
    {
     "name": "stdout",
     "output_type": "stream",
     "text": [
      "--2019-12-13 12:45:12--  https://raw.githubusercontent.com/udacity/deep-learning-v2-pytorch/master/intro-to-pytorch/helper.py\n",
      "Resolving raw.githubusercontent.com (raw.githubusercontent.com)... 151.101.0.133, 151.101.64.133, 151.101.128.133, ...\n",
      "Connecting to raw.githubusercontent.com (raw.githubusercontent.com)|151.101.0.133|:443... connected.\n",
      "HTTP request sent, awaiting response... 200 OK\n",
      "Length: 2813 (2.7K) [text/plain]\n",
      "Saving to: ‘helper.py’\n",
      "\n",
      "helper.py           100%[===================>]   2.75K  --.-KB/s    in 0s      \n",
      "\n",
      "2019-12-13 12:45:13 (35.6 MB/s) - ‘helper.py’ saved [2813/2813]\n",
      "\n"
     ]
    }
   ],
   "source": [
    "!wget -c https://raw.githubusercontent.com/udacity/deep-learning-v2-pytorch/master/intro-to-pytorch/helper.py"
   ]
  },
  {
   "cell_type": "code",
   "execution_count": 10,
   "metadata": {},
   "outputs": [],
   "source": [
    "%matplotlib inline\n",
    "%config InlineBackend.figure_format = 'retina'\n",
    "\n",
    "import numpy as np\n",
    "import torch\n",
    "\n",
    "import helper\n",
    "\n",
    "import matplotlib.pyplot as plt"
   ]
  },
  {
   "cell_type": "code",
   "execution_count": 11,
   "metadata": {},
   "outputs": [],
   "source": [
    "from torch import nn\n",
    "import torch.nn.functional as F"
   ]
  },
  {
   "cell_type": "code",
   "execution_count": 21,
   "metadata": {},
   "outputs": [],
   "source": [
    "class Network(nn.Module):\n",
    "    def __init__(self):\n",
    "        super().__init__()\n",
    "        self.fc1 = nn.Linear(786,128)\n",
    "        self.fc2 = nn.Linear(128,64)\n",
    "        self.fc3 = nn.Linear(64,10)\n",
    "        \n",
    "    def forward(x,self):\n",
    "        x = fc1(x)\n",
    "        x = F.relu(x)\n",
    "        x = fc2(x)\n",
    "        x = F.relu(x)\n",
    "        x = fc3(x)\n",
    "        x = F.softmax(x,dim=1) # dim=dimension ; the softmax operation is applied to all slices of input along the specified dim , and will rescale them so that the elements lie in the range (0, 1) and sum to 1\n",
    "        return x\n",
    "        "
   ]
  },
  {
   "cell_type": "code",
   "execution_count": 22,
   "metadata": {},
   "outputs": [
    {
     "data": {
      "text/plain": [
       "Network(\n",
       "  (fc1): Linear(in_features=786, out_features=128, bias=True)\n",
       "  (fc2): Linear(in_features=128, out_features=64, bias=True)\n",
       "  (fc3): Linear(in_features=64, out_features=10, bias=True)\n",
       ")"
      ]
     },
     "execution_count": 22,
     "metadata": {},
     "output_type": "execute_result"
    }
   ],
   "source": [
    "model = Network()\n",
    "model"
   ]
  },
  {
   "cell_type": "code",
   "execution_count": 23,
   "metadata": {},
   "outputs": [
    {
     "name": "stdout",
     "output_type": "stream",
     "text": [
      "Parameter containing:\n",
      "tensor([[-0.0334,  0.0235, -0.0321,  ...,  0.0330,  0.0074,  0.0278],\n",
      "        [ 0.0078, -0.0101, -0.0281,  ..., -0.0060,  0.0147, -0.0092],\n",
      "        [-0.0123,  0.0355, -0.0217,  ...,  0.0040,  0.0111, -0.0078],\n",
      "        ...,\n",
      "        [-0.0132,  0.0333,  0.0342,  ...,  0.0034,  0.0027,  0.0128],\n",
      "        [ 0.0055,  0.0320,  0.0135,  ...,  0.0316, -0.0268, -0.0231],\n",
      "        [ 0.0042,  0.0103,  0.0315,  ...,  0.0269,  0.0208,  0.0178]],\n",
      "       requires_grad=True)\n",
      "Parameter containing:\n",
      "tensor([ 0.0095, -0.0075,  0.0014, -0.0169, -0.0321,  0.0078, -0.0253,  0.0146,\n",
      "         0.0251,  0.0080,  0.0175, -0.0342,  0.0016,  0.0322,  0.0167, -0.0346,\n",
      "        -0.0162,  0.0055,  0.0278,  0.0010,  0.0133, -0.0046,  0.0207,  0.0199,\n",
      "         0.0282,  0.0194, -0.0220,  0.0009,  0.0297,  0.0102, -0.0301, -0.0312,\n",
      "         0.0256,  0.0040, -0.0267,  0.0211, -0.0292,  0.0248, -0.0313, -0.0093,\n",
      "         0.0139,  0.0176, -0.0212, -0.0314,  0.0017, -0.0332, -0.0126,  0.0037,\n",
      "        -0.0043,  0.0054,  0.0171,  0.0002, -0.0021, -0.0028,  0.0187, -0.0161,\n",
      "         0.0236,  0.0143, -0.0239, -0.0309, -0.0293, -0.0316,  0.0204,  0.0208,\n",
      "        -0.0253,  0.0161, -0.0118,  0.0300, -0.0094, -0.0097, -0.0031,  0.0261,\n",
      "        -0.0290, -0.0218, -0.0085, -0.0124, -0.0048,  0.0255,  0.0116, -0.0155,\n",
      "        -0.0315, -0.0184,  0.0066, -0.0010, -0.0278,  0.0052,  0.0235, -0.0125,\n",
      "         0.0138,  0.0065, -0.0040, -0.0035,  0.0202, -0.0115, -0.0091,  0.0342,\n",
      "         0.0067,  0.0093, -0.0138,  0.0323, -0.0143,  0.0173, -0.0298, -0.0133,\n",
      "         0.0143,  0.0100,  0.0190,  0.0218,  0.0095, -0.0046,  0.0326,  0.0202,\n",
      "        -0.0132, -0.0046,  0.0149, -0.0211,  0.0028, -0.0119,  0.0184,  0.0201,\n",
      "         0.0216, -0.0099, -0.0256, -0.0038,  0.0158, -0.0286,  0.0167,  0.0224],\n",
      "       requires_grad=True)\n"
     ]
    }
   ],
   "source": [
    "print(model.fc1.weight)\n",
    "print(model.fc1.bias)"
   ]
  }
 ],
 "metadata": {
  "kernelspec": {
   "display_name": "Python 3",
   "language": "python",
   "name": "python3"
  },
  "language_info": {
   "codemirror_mode": {
    "name": "ipython",
    "version": 3
   },
   "file_extension": ".py",
   "mimetype": "text/x-python",
   "name": "python",
   "nbconvert_exporter": "python",
   "pygments_lexer": "ipython3",
   "version": "3.6.7"
  }
 },
 "nbformat": 4,
 "nbformat_minor": 2
}
